{
 "metadata": {
  "language_info": {
   "codemirror_mode": {
    "name": "ipython",
    "version": 3
   },
   "file_extension": ".py",
   "mimetype": "text/x-python",
   "name": "python",
   "nbconvert_exporter": "python",
   "pygments_lexer": "ipython3",
   "version": "3.7.6-final"
  },
  "orig_nbformat": 2,
  "kernelspec": {
   "name": "Python 3.7.6 64-bit ('anaconda3': virtualenv)",
   "display_name": "Python 3.7.6 64-bit ('anaconda3': virtualenv)",
   "metadata": {
    "interpreter": {
     "hash": "83fd730ee10b27fca59d2362f39572bacefb2dd12305df93b0609391fa4c55fb"
    }
   }
  }
 },
 "nbformat": 4,
 "nbformat_minor": 2,
 "cells": [
  {
   "cell_type": "code",
   "execution_count": 60,
   "metadata": {},
   "outputs": [],
   "source": [
    "import numpy as np\n",
    "import pickle   "
   ]
  },
  {
   "cell_type": "code",
   "execution_count": 61,
   "metadata": {},
   "outputs": [],
   "source": [
    "glove_mat = np.load(\"./data/glove_6B_50d.npy\")\n",
    "words = np.load(\"./data/words_6B_50d.npy\")\n",
    "with open(\"./data/word_to_ind_6B_50d.pkl\", \"rb\") as f:\n",
    "    word_to_ind = pickle.load(f)"
   ]
  },
  {
   "cell_type": "code",
   "execution_count": 62,
   "metadata": {},
   "outputs": [],
   "source": [
    "# Google Mikolov Dataset (n~20000)\n",
    "words_set = np.loadtxt(\"./data/google_mikolov/dataset_google_mikolov.txt\", comments=\":\", dtype=np.str)"
   ]
  },
  {
   "cell_type": "code",
   "execution_count": 63,
   "metadata": {},
   "outputs": [
    {
     "output_type": "stream",
     "name": "stdout",
     "text": [
      "Athens Bangkok\n(19544, 4)\n"
     ]
    }
   ],
   "source": [
    "print(words_set[0][0], words_set[1][2])\n",
    "print(words_set.shape)"
   ]
  },
  {
   "cell_type": "code",
   "execution_count": 64,
   "metadata": {},
   "outputs": [],
   "source": [
    "vecs_set = np.array(list(list(glove_mat[word_to_ind[words_set[i][j].lower()]] for j in range(4)) for i in range(words_set.shape[0])))"
   ]
  },
  {
   "cell_type": "code",
   "execution_count": 65,
   "metadata": {},
   "outputs": [
    {
     "output_type": "execute_result",
     "data": {
      "text/plain": [
       "array([-0.080518 ,  1.0627   ,  0.14356  ,  0.51284  , -0.86614  ,\n",
       "       -0.87747  , -0.081332 ,  0.62346  , -1.0791   , -0.26803  ,\n",
       "        0.042063 , -1.1343   , -0.41609  , -0.44612  ,  0.75472  ,\n",
       "        0.39791  ,  0.26783  ,  0.60382  , -1.1654   ,  0.2434   ,\n",
       "        0.65747  , -0.089722 , -1.0805   ,  0.016183 ,  0.5644   ,\n",
       "       -1.4807   ,  0.26113  , -0.0033073, -1.0285   , -0.34615  ,\n",
       "        1.4185   ,  0.80099  , -0.24248  , -0.45811  , -0.030437 ,\n",
       "        0.17815  ,  0.83084  ,  0.14041  , -0.14673  ,  0.35092  ,\n",
       "       -0.46702  , -0.22738  ,  0.71731  , -0.29418  ,  0.35399  ,\n",
       "        0.34459  , -0.27677  ,  0.56476  ,  0.75872  , -1.3752   ])"
      ]
     },
     "metadata": {},
     "execution_count": 65
    }
   ],
   "source": [
    "vecs_set[0][0]"
   ]
  },
  {
   "cell_type": "code",
   "execution_count": 66,
   "metadata": {},
   "outputs": [
    {
     "output_type": "stream",
     "name": "stdout",
     "text": [
      "19544\n",
      "[17378 18595 18080 ... 16305  2523 11260]\n",
      "15635 17589\n",
      "(19544, 150) (19544, 50)\n",
      "(15635, 150) (1954, 150) (1955, 150)\n",
      "(15635, 50) (1954, 50) (1955, 50)\n"
     ]
    }
   ],
   "source": [
    "# 8:1:1 train:dev:test\n",
    "print(vecs_set.shape[0])\n",
    "indices = np.arange(vecs_set.shape[0])\n",
    "np.random.shuffle(indices)\n",
    "print(indices)\n",
    "vecs_set = vecs_set[indices]\n",
    "words_set = words_set[indices]\n",
    "dev_i = vecs_set.shape[0] * 8 // 10\n",
    "test_i = vecs_set.shape[0] * 9 // 10\n",
    "print(dev_i, test_i)\n",
    "\n",
    "X = np.array(list(np.concatenate((vecs_set[i][0], vecs_set[i][1], vecs_set[i][2])) for i in range(0, vecs_set.shape[0])))\n",
    "# print(X[1, :5])\n",
    "# X = X.T\n",
    "# print(X[:5, 1])\n",
    "Y = vecs_set[:, 3]\n",
    "# print(Y[1, :5])\n",
    "# Y = Y.T\n",
    "# print(Y[:5, 1])\n",
    "print(X.shape, Y.shape)\n",
    "\n",
    "X_train, X_dev, X_test = X[:dev_i], X[dev_i:test_i], X[test_i:]\n",
    "Y_train, Y_dev, Y_test = Y[:dev_i], Y[dev_i:test_i], Y[test_i:]\n",
    "print(X_train.shape, X_dev.shape, X_test.shape)\n",
    "print(Y_train.shape, Y_dev.shape, Y_test.shape)\n",
    "\n",
    "np.save(\"./data/google_mikolov/X_train\", X_train)\n",
    "np.save(\"./data/google_mikolov/X_dev\", X_dev)\n",
    "np.save(\"./data/google_mikolov/X_test\", X_test)\n",
    "np.save(\"./data/google_mikolov/Y_train\", Y_train)\n",
    "np.save(\"./data/google_mikolov/Y_dev\", Y_dev)\n",
    "np.save(\"./data/google_mikolov/Y_test\", Y_test)"
   ]
  },
  {
   "cell_type": "code",
   "execution_count": 67,
   "metadata": {},
   "outputs": [
    {
     "output_type": "stream",
     "name": "stdout",
     "text": [
      "(1955, 3) (1955,)\n['Berlin' 'Germany' 'Bucharest'] Romania\n"
     ]
    }
   ],
   "source": [
    "X_test_words = words_set[test_i:, :3]\n",
    "Y_test_words = words_set[test_i:, 3]\n",
    "\n",
    "print(X_test_words.shape, Y_test_words.shape)\n",
    "print(X_test_words[0], Y_test_words[0])\n",
    "\n",
    "np.save(\"./data/google_mikolov/X_test_words\", X_test_words)\n",
    "np.save(\"./data/google_mikolov/Y_test_words\", Y_test_words)"
   ]
  },
  {
   "cell_type": "code",
   "execution_count": null,
   "metadata": {},
   "outputs": [],
   "source": []
  }
 ]
}