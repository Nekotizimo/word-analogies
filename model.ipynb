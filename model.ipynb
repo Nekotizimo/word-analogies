{
 "metadata": {
  "language_info": {
   "codemirror_mode": {
    "name": "ipython",
    "version": 3
   },
   "file_extension": ".py",
   "mimetype": "text/x-python",
   "name": "python",
   "nbconvert_exporter": "python",
   "pygments_lexer": "ipython3",
   "version": "3.7.6-final"
  },
  "orig_nbformat": 2,
  "kernelspec": {
   "name": "Python 3.7.6 64-bit ('base': conda)",
   "display_name": "Python 3.7.6 64-bit ('base': conda)",
   "metadata": {
    "interpreter": {
     "hash": "83fd730ee10b27fca59d2362f39572bacefb2dd12305df93b0609391fa4c55fb"
    }
   }
  }
 },
 "nbformat": 4,
 "nbformat_minor": 2,
 "cells": [
  {
   "cell_type": "code",
   "execution_count": 96,
   "metadata": {},
   "outputs": [],
   "source": [
    "import numpy as np\n",
    "import tensorflow as tf\n",
    "import keras\n",
    "import keras.layers as layers\n",
    "import pickle\n",
    "import wandb\n",
    "from wandb.keras import WandbCallback\n",
    "import time"
   ]
  },
  {
   "cell_type": "code",
   "execution_count": 35,
   "metadata": {},
   "outputs": [],
   "source": [
    "glove_mat = np.load(\"./data/glove_6B_50d.npy\")\n",
    "words = np.load(\"./data/words_6B_50d.npy\")\n",
    "with open(\"./data/word_to_ind_6B_50d.pkl\", \"rb\") as f:\n",
    "    word_to_ind = pickle.load(f)"
   ]
  },
  {
   "cell_type": "code",
   "execution_count": 36,
   "metadata": {},
   "outputs": [],
   "source": [
    "X_train = np.load(\"./data/google_mikolov/X_train.npy\")\n",
    "X_dev = np.load(\"./data/google_mikolov/X_dev.npy\")\n",
    "X_test = np.load(\"./data/google_mikolov/X_test.npy\")\n",
    "X_test_words = np.load(\"./data/google_mikolov/X_test_words.npy\")\n",
    "\n",
    "Y_train = np.load(\"./data/google_mikolov/Y_train.npy\")\n",
    "Y_dev = np.load(\"./data/google_mikolov/Y_dev.npy\")\n",
    "Y_test = np.load(\"./data/google_mikolov/Y_test.npy\")\n",
    "Y_test_words = np.load(\"./data/google_mikolov/Y_test_words.npy\")"
   ]
  },
  {
   "cell_type": "code",
   "execution_count": 48,
   "metadata": {},
   "outputs": [],
   "source": [
    "def dist(a, b):\n",
    "    return np.linalg.norm(glove_mat[word_to_ind[a]] - glove_mat[word_to_ind[b]])\n",
    "\n",
    "def closest_neighbors(embedding, n):\n",
    "    neighbors = sorted(words, key=lambda word: np.linalg.norm(embedding - glove_mat[word_to_ind[word]]))\n",
    "    return neighbors[:n]"
   ]
  },
  {
   "cell_type": "code",
   "execution_count": 128,
   "metadata": {},
   "outputs": [
    {
     "output_type": "stream",
     "name": "stdout",
     "text": [
      "tf.Tensor(1.0125517529035342, shape=(), dtype=float64)\ntf.Tensor(0.5664634466615177, shape=(), dtype=float64)\n"
     ]
    }
   ],
   "source": [
    "delta = 1.0\n",
    "h = 1.0\n",
    "\n",
    "def mse_large(y_true, y_pred):\n",
    "    mse = keras.losses.mse(y_true, y_pred)\n",
    "    # penalty = tf.divide(delta, tf.math.add(h, tf.norm(y_pred))) \n",
    "    penalty = tf.maximum(0.0, tf.multiply(-0.5/5.0, tf.subtract(tf.norm(y_pred), 5.0)))\n",
    "    # print(mse, penalty)\n",
    "    return tf.math.add(mse, penalty)\n",
    "\n",
    "print(mse_large(minnesota, bulletinyyy))\n",
    "print(mse_large(florida, instance))"
   ]
  },
  {
   "cell_type": "code",
   "execution_count": 167,
   "metadata": {},
   "outputs": [
    {
     "output_type": "stream",
     "name": "stdout",
     "text": [
      "tf.Tensor(2.894656970745808, shape=(), dtype=float64)\ntf.Tensor(-0.36326289742076506, shape=(), dtype=float64)\n"
     ]
    }
   ],
   "source": [
    "def mse_cossim(y_true, y_pred):\n",
    "    mse = keras.losses.mse(y_true, y_pred)\n",
    "    mse = tf.multiply(mse, 0.2)\n",
    "    cossin = keras.losses.cosine_similarity(y_true, y_pred)\n",
    "    penalty = tf.maximum(0.0, tf.subtract(tf.divide(1.0, tf.add(0.3, tf.norm(y_pred))), 0.2))\n",
    "    # print(mse, cossin)\n",
    "    return tf.add(tf.add(mse, cossin), penalty)\n",
    "\n",
    "print(mse_cossim(minnesota, bulletinyyy))\n",
    "print(mse_cossim(florida, instance))"
   ]
  },
  {
   "cell_type": "code",
   "execution_count": 156,
   "metadata": {},
   "outputs": [
    {
     "output_type": "stream",
     "name": "stdout",
     "text": [
      "Model: \"analogy_model\"\n_________________________________________________________________\nLayer (type)                 Output Shape              Param #   \n=================================================================\ninput_20 (InputLayer)        [(None, 150)]             0         \n_________________________________________________________________\ndense_64 (Dense)             (None, 300)               45300     \n_________________________________________________________________\ndropout_45 (Dropout)         (None, 300)               0         \n_________________________________________________________________\ndense_65 (Dense)             (None, 300)               90300     \n_________________________________________________________________\ndropout_46 (Dropout)         (None, 300)               0         \n_________________________________________________________________\ndense_66 (Dense)             (None, 50)                15050     \n=================================================================\nTotal params: 150,650\nTrainable params: 150,650\nNon-trainable params: 0\n_________________________________________________________________\n"
     ]
    }
   ],
   "source": [
    "config = {\n",
    "    \"architecture\": \"dense\",\n",
    "    \"dataset\": \"google_mikolov\",\n",
    "    \"optimizer\": \"adam\",\n",
    "    \"loss\": \"mse_cossim\",\n",
    "    \"metrics\": [\"mse\"],\n",
    "    \"layers\": 3,\n",
    "    \"hidden_layers\": [300, 300]\n",
    "}\n",
    "\n",
    "inputs = layers.Input(shape=(150))\n",
    "X = inputs\n",
    "\n",
    "assert(config[\"layers\"] == len(config[\"hidden_layers\"]) + 1)\n",
    "\n",
    "for size in config[\"hidden_layers\"]:\n",
    "    X = layers.Dense(size, activation=\"relu\")(X)\n",
    "    X = layers.Dropout(0.2)(X)\n",
    "\n",
    "Y = layers.Dense(50, activation=\"relu\")(X)\n",
    "\n",
    "model = keras.Model(inputs=inputs, outputs=Y, name=\"analogy_model\")\n",
    "model.summary()\n"
   ]
  },
  {
   "cell_type": "code",
   "execution_count": null,
   "metadata": {},
   "outputs": [],
   "source": []
  },
  {
   "cell_type": "code",
   "execution_count": 168,
   "metadata": {},
   "outputs": [
    {
     "output_type": "display_data",
     "data": {
      "text/plain": "<IPython.core.display.HTML object>",
      "text/html": "\n                Tracking run with wandb version 0.10.5<br/>\n                Syncing run <strong style=\"color:#cdcd00\">dense-3-[300, 300]</strong> to <a href=\"https://wandb.ai\" target=\"_blank\">Weights & Biases</a> <a href=\"https://docs.wandb.com/integrations/jupyter.html\" target=\"_blank\">(Documentation)</a>.<br/>\n                Project page: <a href=\"https://wandb.ai/nekotizimo/word-analogies\" target=\"_blank\">https://wandb.ai/nekotizimo/word-analogies</a><br/>\n                Run page: <a href=\"https://wandb.ai/nekotizimo/word-analogies/runs/zw9sbiqd\" target=\"_blank\">https://wandb.ai/nekotizimo/word-analogies/runs/zw9sbiqd</a><br/>\n                Run data is saved locally in <code>wandb/run-20201009_232252-zw9sbiqd</code><br/><br/>\n            "
     },
     "metadata": {}
    },
    {
     "output_type": "stream",
     "name": "stdout",
     "text": [
      "Epoch 1/100\n",
      "489/489 [==============================] - 1s 2ms/step - loss: -0.6640 - mse: 0.2483 - val_loss: -0.6754 - val_mse: 0.2361\n",
      "Epoch 2/100\n",
      "489/489 [==============================] - 1s 2ms/step - loss: -0.6638 - mse: 0.2486 - val_loss: -0.6753 - val_mse: 0.2360\n",
      "Epoch 3/100\n",
      "489/489 [==============================] - 1s 3ms/step - loss: -0.6639 - mse: 0.2485 - val_loss: -0.6754 - val_mse: 0.2359\n",
      "Epoch 4/100\n",
      "489/489 [==============================] - 1s 2ms/step - loss: -0.6638 - mse: 0.2485 - val_loss: -0.6754 - val_mse: 0.2359\n",
      "Epoch 5/100\n",
      "489/489 [==============================] - 1s 2ms/step - loss: -0.6640 - mse: 0.2484 - val_loss: -0.6755 - val_mse: 0.2360\n",
      "Epoch 6/100\n",
      "489/489 [==============================] - 1s 2ms/step - loss: -0.6638 - mse: 0.2485 - val_loss: -0.6754 - val_mse: 0.2362\n",
      "Epoch 7/100\n",
      "489/489 [==============================] - 1s 2ms/step - loss: -0.6642 - mse: 0.2482 - val_loss: -0.6755 - val_mse: 0.2360\n",
      "Epoch 8/100\n",
      "489/489 [==============================] - 1s 1ms/step - loss: -0.6638 - mse: 0.2486 - val_loss: -0.6752 - val_mse: 0.2361\n",
      "Epoch 9/100\n",
      "489/489 [==============================] - 1s 1ms/step - loss: -0.6639 - mse: 0.2485 - val_loss: -0.6754 - val_mse: 0.2360\n",
      "Epoch 10/100\n",
      "489/489 [==============================] - 1s 1ms/step - loss: -0.6639 - mse: 0.2486 - val_loss: -0.6754 - val_mse: 0.2360\n",
      "Epoch 11/100\n",
      "489/489 [==============================] - 1s 1ms/step - loss: -0.6638 - mse: 0.2487 - val_loss: -0.6753 - val_mse: 0.2362\n",
      "Epoch 12/100\n",
      "489/489 [==============================] - 1s 2ms/step - loss: -0.6638 - mse: 0.2485 - val_loss: -0.6754 - val_mse: 0.2361\n",
      "Epoch 13/100\n",
      "489/489 [==============================] - 1s 2ms/step - loss: -0.6639 - mse: 0.2486 - val_loss: -0.6754 - val_mse: 0.2362\n",
      "Epoch 14/100\n",
      "489/489 [==============================] - 1s 2ms/step - loss: -0.6640 - mse: 0.2485 - val_loss: -0.6753 - val_mse: 0.2361\n",
      "Epoch 15/100\n",
      "489/489 [==============================] - 1s 2ms/step - loss: -0.6637 - mse: 0.2487 - val_loss: -0.6754 - val_mse: 0.2361\n",
      "Epoch 16/100\n",
      "489/489 [==============================] - 1s 1ms/step - loss: -0.6642 - mse: 0.2482 - val_loss: -0.6754 - val_mse: 0.2361\n",
      "Epoch 17/100\n",
      "489/489 [==============================] - 1s 2ms/step - loss: -0.6638 - mse: 0.2486 - val_loss: -0.6755 - val_mse: 0.2358\n",
      "Epoch 18/100\n",
      "489/489 [==============================] - 1s 2ms/step - loss: -0.6639 - mse: 0.2486 - val_loss: -0.6755 - val_mse: 0.2360\n",
      "Epoch 19/100\n",
      "489/489 [==============================] - 1s 1ms/step - loss: -0.6640 - mse: 0.2483 - val_loss: -0.6752 - val_mse: 0.2364\n",
      "Epoch 20/100\n",
      "489/489 [==============================] - 1s 1ms/step - loss: -0.6639 - mse: 0.2484 - val_loss: -0.6754 - val_mse: 0.2360\n",
      "Epoch 21/100\n",
      "489/489 [==============================] - 1s 1ms/step - loss: -0.6641 - mse: 0.2485 - val_loss: -0.6755 - val_mse: 0.2358\n",
      "Epoch 22/100\n",
      "489/489 [==============================] - 1s 2ms/step - loss: -0.6642 - mse: 0.2482 - val_loss: -0.6754 - val_mse: 0.2363\n",
      "Epoch 23/100\n",
      "489/489 [==============================] - 1s 2ms/step - loss: -0.6641 - mse: 0.2483 - val_loss: -0.6753 - val_mse: 0.2362\n",
      "Epoch 24/100\n",
      "489/489 [==============================] - 1s 2ms/step - loss: -0.6641 - mse: 0.2484 - val_loss: -0.6754 - val_mse: 0.2361\n",
      "Epoch 25/100\n",
      "489/489 [==============================] - 1s 2ms/step - loss: -0.6641 - mse: 0.2484 - val_loss: -0.6754 - val_mse: 0.2360\n",
      "Epoch 26/100\n",
      "489/489 [==============================] - 1s 2ms/step - loss: -0.6640 - mse: 0.2484 - val_loss: -0.6755 - val_mse: 0.2360\n",
      "Epoch 27/100\n",
      "489/489 [==============================] - 1s 2ms/step - loss: -0.6640 - mse: 0.2485 - val_loss: -0.6755 - val_mse: 0.2360\n",
      "Epoch 28/100\n",
      "489/489 [==============================] - 1s 2ms/step - loss: -0.6640 - mse: 0.2485 - val_loss: -0.6754 - val_mse: 0.2360\n",
      "Epoch 29/100\n",
      "489/489 [==============================] - 1s 1ms/step - loss: -0.6640 - mse: 0.2484 - val_loss: -0.6755 - val_mse: 0.2361\n",
      "Epoch 30/100\n",
      "489/489 [==============================] - 1s 2ms/step - loss: -0.6638 - mse: 0.2485 - val_loss: -0.6754 - val_mse: 0.2359\n",
      "Epoch 31/100\n",
      "489/489 [==============================] - 1s 2ms/step - loss: -0.6640 - mse: 0.2485 - val_loss: -0.6754 - val_mse: 0.2359\n",
      "Epoch 32/100\n",
      "489/489 [==============================] - 1s 1ms/step - loss: -0.6641 - mse: 0.2483 - val_loss: -0.6752 - val_mse: 0.2361\n",
      "Epoch 33/100\n",
      "489/489 [==============================] - 1s 1ms/step - loss: -0.6642 - mse: 0.2483 - val_loss: -0.6756 - val_mse: 0.2359\n",
      "Epoch 34/100\n",
      "489/489 [==============================] - 1s 1ms/step - loss: -0.6642 - mse: 0.2483 - val_loss: -0.6754 - val_mse: 0.2360\n",
      "Epoch 35/100\n",
      "489/489 [==============================] - 1s 2ms/step - loss: -0.6641 - mse: 0.2483 - val_loss: -0.6755 - val_mse: 0.2360\n",
      "Epoch 36/100\n",
      "489/489 [==============================] - 1s 2ms/step - loss: -0.6642 - mse: 0.2483 - val_loss: -0.6753 - val_mse: 0.2362\n",
      "Epoch 37/100\n",
      "489/489 [==============================] - 1s 2ms/step - loss: -0.6640 - mse: 0.2484 - val_loss: -0.6753 - val_mse: 0.2360\n",
      "Epoch 38/100\n",
      "489/489 [==============================] - 1s 2ms/step - loss: -0.6639 - mse: 0.2486 - val_loss: -0.6755 - val_mse: 0.2359\n",
      "Epoch 39/100\n",
      "489/489 [==============================] - 1s 2ms/step - loss: -0.6641 - mse: 0.2484 - val_loss: -0.6755 - val_mse: 0.2361\n",
      "Epoch 40/100\n",
      "489/489 [==============================] - 1s 2ms/step - loss: -0.6641 - mse: 0.2483 - val_loss: -0.6755 - val_mse: 0.2361\n",
      "Epoch 41/100\n",
      "489/489 [==============================] - 1s 2ms/step - loss: -0.6641 - mse: 0.2483 - val_loss: -0.6755 - val_mse: 0.2361\n",
      "Epoch 42/100\n",
      "489/489 [==============================] - 1s 2ms/step - loss: -0.6640 - mse: 0.2485 - val_loss: -0.6755 - val_mse: 0.2359\n",
      "Epoch 43/100\n",
      "489/489 [==============================] - 1s 1ms/step - loss: -0.6641 - mse: 0.2484 - val_loss: -0.6755 - val_mse: 0.2358\n",
      "Epoch 44/100\n",
      "489/489 [==============================] - 1s 1ms/step - loss: -0.6640 - mse: 0.2484 - val_loss: -0.6755 - val_mse: 0.2360\n",
      "Epoch 45/100\n",
      "489/489 [==============================] - 1s 1ms/step - loss: -0.6641 - mse: 0.2484 - val_loss: -0.6754 - val_mse: 0.2361\n",
      "Epoch 46/100\n",
      "489/489 [==============================] - 1s 1ms/step - loss: -0.6642 - mse: 0.2483 - val_loss: -0.6754 - val_mse: 0.2360\n",
      "Epoch 47/100\n",
      "489/489 [==============================] - 1s 2ms/step - loss: -0.6641 - mse: 0.2483 - val_loss: -0.6753 - val_mse: 0.2362\n",
      "Epoch 48/100\n",
      "489/489 [==============================] - 1s 2ms/step - loss: -0.6640 - mse: 0.2485 - val_loss: -0.6754 - val_mse: 0.2361\n",
      "Epoch 49/100\n",
      "489/489 [==============================] - 1s 2ms/step - loss: -0.6641 - mse: 0.2484 - val_loss: -0.6754 - val_mse: 0.2360\n",
      "Epoch 50/100\n",
      "489/489 [==============================] - 1s 1ms/step - loss: -0.6642 - mse: 0.2483 - val_loss: -0.6755 - val_mse: 0.2359\n",
      "Epoch 51/100\n",
      "489/489 [==============================] - 1s 1ms/step - loss: -0.6640 - mse: 0.2485 - val_loss: -0.6754 - val_mse: 0.2362\n",
      "Epoch 52/100\n",
      "489/489 [==============================] - 1s 1ms/step - loss: -0.6639 - mse: 0.2484 - val_loss: -0.6755 - val_mse: 0.2358\n",
      "Epoch 53/100\n",
      "489/489 [==============================] - 1s 2ms/step - loss: -0.6640 - mse: 0.2484 - val_loss: -0.6754 - val_mse: 0.2359\n",
      "Epoch 54/100\n",
      "489/489 [==============================] - 1s 2ms/step - loss: -0.6640 - mse: 0.2484 - val_loss: -0.6755 - val_mse: 0.2360\n",
      "Epoch 55/100\n",
      "489/489 [==============================] - 1s 2ms/step - loss: -0.6642 - mse: 0.2483 - val_loss: -0.6755 - val_mse: 0.2359\n",
      "Epoch 56/100\n",
      "489/489 [==============================] - 1s 2ms/step - loss: -0.6641 - mse: 0.2483 - val_loss: -0.6755 - val_mse: 0.2359\n",
      "Epoch 57/100\n",
      "489/489 [==============================] - 1s 1ms/step - loss: -0.6640 - mse: 0.2483 - val_loss: -0.6753 - val_mse: 0.2361\n",
      "Epoch 58/100\n",
      "489/489 [==============================] - 1s 2ms/step - loss: -0.6644 - mse: 0.2481 - val_loss: -0.6756 - val_mse: 0.2360\n",
      "Epoch 59/100\n",
      "489/489 [==============================] - 1s 2ms/step - loss: -0.6643 - mse: 0.2480 - val_loss: -0.6755 - val_mse: 0.2359\n",
      "Epoch 60/100\n",
      "489/489 [==============================] - 1s 3ms/step - loss: -0.6643 - mse: 0.2481 - val_loss: -0.6755 - val_mse: 0.2358\n",
      "Epoch 61/100\n",
      "489/489 [==============================] - 1s 2ms/step - loss: -0.6640 - mse: 0.2483 - val_loss: -0.6753 - val_mse: 0.2359\n",
      "Epoch 62/100\n",
      "489/489 [==============================] - 1s 3ms/step - loss: -0.6640 - mse: 0.2484 - val_loss: -0.6756 - val_mse: 0.2358\n",
      "Epoch 63/100\n",
      "489/489 [==============================] - 1s 2ms/step - loss: -0.6642 - mse: 0.2483 - val_loss: -0.6754 - val_mse: 0.2359\n",
      "Epoch 64/100\n",
      "489/489 [==============================] - 1s 3ms/step - loss: -0.6643 - mse: 0.2482 - val_loss: -0.6754 - val_mse: 0.2360\n",
      "Epoch 65/100\n",
      "489/489 [==============================] - 1s 3ms/step - loss: -0.6643 - mse: 0.2482 - val_loss: -0.6755 - val_mse: 0.2359\n",
      "Epoch 66/100\n",
      "489/489 [==============================] - 2s 4ms/step - loss: -0.6640 - mse: 0.2484 - val_loss: -0.6755 - val_mse: 0.2358\n",
      "Epoch 67/100\n",
      "489/489 [==============================] - 2s 4ms/step - loss: -0.6643 - mse: 0.2482 - val_loss: -0.6756 - val_mse: 0.2357\n",
      "Epoch 68/100\n",
      "489/489 [==============================] - 2s 4ms/step - loss: -0.6642 - mse: 0.2482 - val_loss: -0.6755 - val_mse: 0.2358\n",
      "Epoch 69/100\n",
      "489/489 [==============================] - 2s 3ms/step - loss: -0.6641 - mse: 0.2484 - val_loss: -0.6753 - val_mse: 0.2360\n",
      "Epoch 70/100\n",
      "489/489 [==============================] - 2s 3ms/step - loss: -0.6640 - mse: 0.2484 - val_loss: -0.6755 - val_mse: 0.2359\n",
      "Epoch 71/100\n",
      "489/489 [==============================] - 1s 3ms/step - loss: -0.6642 - mse: 0.2483 - val_loss: -0.6754 - val_mse: 0.2360\n",
      "Epoch 72/100\n",
      "489/489 [==============================] - 1s 3ms/step - loss: -0.6640 - mse: 0.2484 - val_loss: -0.6754 - val_mse: 0.2359\n",
      "Epoch 73/100\n",
      "489/489 [==============================] - 1s 3ms/step - loss: -0.6641 - mse: 0.2483 - val_loss: -0.6754 - val_mse: 0.2358\n",
      "Epoch 74/100\n",
      "489/489 [==============================] - 1s 2ms/step - loss: -0.6643 - mse: 0.2482 - val_loss: -0.6755 - val_mse: 0.2360\n",
      "Epoch 75/100\n",
      "489/489 [==============================] - 1s 2ms/step - loss: -0.6641 - mse: 0.2483 - val_loss: -0.6755 - val_mse: 0.2359\n",
      "Epoch 76/100\n",
      "489/489 [==============================] - 1s 2ms/step - loss: -0.6643 - mse: 0.2481 - val_loss: -0.6754 - val_mse: 0.2359\n",
      "Epoch 77/100\n",
      "489/489 [==============================] - 1s 2ms/step - loss: -0.6641 - mse: 0.2483 - val_loss: -0.6755 - val_mse: 0.2360\n",
      "Epoch 78/100\n",
      "489/489 [==============================] - 1s 2ms/step - loss: -0.6642 - mse: 0.2482 - val_loss: -0.6754 - val_mse: 0.2360\n",
      "Epoch 79/100\n",
      "489/489 [==============================] - 1s 2ms/step - loss: -0.6641 - mse: 0.2483 - val_loss: -0.6755 - val_mse: 0.2359\n",
      "Epoch 80/100\n",
      "489/489 [==============================] - 1s 2ms/step - loss: -0.6642 - mse: 0.2483 - val_loss: -0.6754 - val_mse: 0.2360\n",
      "Epoch 81/100\n",
      "489/489 [==============================] - 1s 2ms/step - loss: -0.6642 - mse: 0.2482 - val_loss: -0.6756 - val_mse: 0.2359\n",
      "Epoch 82/100\n",
      "489/489 [==============================] - 1s 2ms/step - loss: -0.6641 - mse: 0.2483 - val_loss: -0.6756 - val_mse: 0.2359\n",
      "Epoch 83/100\n",
      "489/489 [==============================] - 1s 2ms/step - loss: -0.6643 - mse: 0.2482 - val_loss: -0.6754 - val_mse: 0.2360\n",
      "Epoch 84/100\n",
      "489/489 [==============================] - 1s 2ms/step - loss: -0.6643 - mse: 0.2482 - val_loss: -0.6756 - val_mse: 0.2359\n",
      "Epoch 85/100\n",
      "489/489 [==============================] - 1s 2ms/step - loss: -0.6642 - mse: 0.2483 - val_loss: -0.6755 - val_mse: 0.2360\n",
      "Epoch 86/100\n",
      "489/489 [==============================] - 1s 2ms/step - loss: -0.6641 - mse: 0.2483 - val_loss: -0.6754 - val_mse: 0.2360\n",
      "Epoch 87/100\n",
      "489/489 [==============================] - 1s 2ms/step - loss: -0.6643 - mse: 0.2483 - val_loss: -0.6755 - val_mse: 0.2359\n",
      "Epoch 88/100\n",
      "489/489 [==============================] - 1s 2ms/step - loss: -0.6641 - mse: 0.2483 - val_loss: -0.6756 - val_mse: 0.2358\n",
      "Epoch 89/100\n",
      "489/489 [==============================] - 1s 2ms/step - loss: -0.6643 - mse: 0.2481 - val_loss: -0.6756 - val_mse: 0.2357\n",
      "Epoch 90/100\n",
      "489/489 [==============================] - 1s 2ms/step - loss: -0.6642 - mse: 0.2482 - val_loss: -0.6755 - val_mse: 0.2359\n",
      "Epoch 91/100\n",
      "489/489 [==============================] - 1s 2ms/step - loss: -0.6642 - mse: 0.2482 - val_loss: -0.6756 - val_mse: 0.2357\n",
      "Epoch 92/100\n",
      "489/489 [==============================] - 1s 2ms/step - loss: -0.6642 - mse: 0.2482 - val_loss: -0.6754 - val_mse: 0.2360\n",
      "Epoch 93/100\n",
      "489/489 [==============================] - 1s 2ms/step - loss: -0.6642 - mse: 0.2482 - val_loss: -0.6755 - val_mse: 0.2359\n",
      "Epoch 94/100\n",
      "489/489 [==============================] - 1s 2ms/step - loss: -0.6644 - mse: 0.2482 - val_loss: -0.6756 - val_mse: 0.2358\n",
      "Epoch 95/100\n",
      "489/489 [==============================] - 1s 2ms/step - loss: -0.6642 - mse: 0.2482 - val_loss: -0.6755 - val_mse: 0.2360\n",
      "Epoch 96/100\n",
      "489/489 [==============================] - 1s 3ms/step - loss: -0.6644 - mse: 0.2481 - val_loss: -0.6755 - val_mse: 0.2359\n",
      "Epoch 97/100\n",
      "489/489 [==============================] - 2s 4ms/step - loss: -0.6645 - mse: 0.2481 - val_loss: -0.6756 - val_mse: 0.2358\n",
      "Epoch 98/100\n",
      "489/489 [==============================] - 2s 4ms/step - loss: -0.6642 - mse: 0.2482 - val_loss: -0.6755 - val_mse: 0.2358\n",
      "Epoch 99/100\n",
      "489/489 [==============================] - 2s 3ms/step - loss: -0.6642 - mse: 0.2483 - val_loss: -0.6756 - val_mse: 0.2360\n",
      "Epoch 100/100\n",
      "489/489 [==============================] - 2s 3ms/step - loss: -0.6641 - mse: 0.2483 - val_loss: -0.6755 - val_mse: 0.2360\n",
      "INFO:tensorflow:Assets written to: models/dense-3-[300, 300]-1602257082/assets\n"
     ]
    },
    {
     "output_type": "display_data",
     "data": {
      "text/plain": "<IPython.core.display.HTML object>",
      "text/html": "<br/>Waiting for W&B process to finish, PID 8780<br/>Program ended successfully."
     },
     "metadata": {}
    },
    {
     "output_type": "display_data",
     "data": {
      "text/plain": "VBox(children=(Label(value=' 1.76MB of 1.76MB uploaded (0.00MB deduped)\\r'), FloatProgress(value=1.0, max=1.0)…",
      "application/vnd.jupyter.widget-view+json": {
       "version_major": 2,
       "version_minor": 0,
       "model_id": "51ff8ed259de4f8d907b4990aafe90f2"
      }
     },
     "metadata": {}
    },
    {
     "output_type": "display_data",
     "data": {
      "text/plain": "<IPython.core.display.HTML object>",
      "text/html": "Find user logs for this run at: <code>wandb/run-20201009_232252-zw9sbiqd/logs/debug.log</code>"
     },
     "metadata": {}
    },
    {
     "output_type": "display_data",
     "data": {
      "text/plain": "<IPython.core.display.HTML object>",
      "text/html": "Find internal logs for this run at: <code>wandb/run-20201009_232252-zw9sbiqd/logs/debug-internal.log</code>"
     },
     "metadata": {}
    },
    {
     "output_type": "display_data",
     "data": {
      "text/plain": "<IPython.core.display.HTML object>",
      "text/html": "<h3>Run summary:</h3><br/><style>\n    table.wandb td:nth-child(1) { padding: 0 10px; text-align: right }\n    </style><table class=\"wandb\">\n<tr><td>epoch</td><td>99</td></tr><tr><td>loss</td><td>-0.66414</td></tr><tr><td>mse</td><td>0.24831</td></tr><tr><td>val_loss</td><td>-0.67554</td></tr><tr><td>val_mse</td><td>0.23601</td></tr><tr><td>_step</td><td>99</td></tr><tr><td>_runtime</td><td>99</td></tr><tr><td>_timestamp</td><td>1602257071</td></tr><tr><td>best_val_loss</td><td>-0.67564</td></tr><tr><td>best_epoch</td><td>96</td></tr></table>"
     },
     "metadata": {}
    },
    {
     "output_type": "display_data",
     "data": {
      "text/plain": "<IPython.core.display.HTML object>",
      "text/html": "<h3>Run history:</h3><br/><style>\n    table.wandb td:nth-child(1) { padding: 0 10px; text-align: right }\n    </style><table class=\"wandb\">\n<tr><td>epoch</td><td>▁▁▁▁▂▂▂▂▂▃▃▃▃▃▃▄▄▄▄▄▅▅▅▅▅▅▆▆▆▆▆▇▇▇▇▇▇███</td></tr><tr><td>loss</td><td>▆▇███▇▄▇▆▅▆▆▆▅▄▅▅▆▄▅▆▆▅▃▆▃▃▅▆▃▅▅▅▃▃▃▄▂▁▅</td></tr><tr><td>mse</td><td>▄▇▇▇█▇▃█▆▄▅▆▆▄▄▅▅▅▄▅▆▅▄▁▄▂▃▅▅▃▄▄▅▃▄▂▃▃▁▄</td></tr><tr><td>val_loss</td><td>▆▅▆█▇▅▆▄▄▆▃▄▄▅▇▄▄▄▅▄▅▄▃▃▆▅▁▆▅▃▄▃▃▂▄▁▅▁▁▃</td></tr><tr><td>val_mse</td><td>▆▄▇▆▇▇▆▅▃▇▅▅▄▅█▇▆▆▅▅▇▅▄▃▄▅▁▅▃▅▅▄▄▃▄▁▅▃▂▅</td></tr><tr><td>_step</td><td>▁▁▁▁▂▂▂▂▂▃▃▃▃▃▃▄▄▄▄▄▅▅▅▅▅▅▆▆▆▆▆▇▇▇▇▇▇███</td></tr><tr><td>_runtime</td><td>▁▁▁▁▂▂▂▂▂▂▂▃▃▃▃▃▄▄▄▄▄▄▄▅▅▅▅▆▆▆▆▆▇▇▇▇▇▇██</td></tr><tr><td>_timestamp</td><td>▁▁▁▁▂▂▂▂▂▂▂▃▃▃▃▃▄▄▄▄▄▄▄▅▅▅▅▆▆▆▆▆▇▇▇▇▇▇██</td></tr></table><br/>"
     },
     "metadata": {}
    },
    {
     "output_type": "display_data",
     "data": {
      "text/plain": "<IPython.core.display.HTML object>",
      "text/html": "Synced 5 W&B file(s), 1 media file(s), 0 artifact file(s) and 1 other file(s)"
     },
     "metadata": {}
    },
    {
     "output_type": "display_data",
     "data": {
      "text/plain": "<IPython.core.display.HTML object>",
      "text/html": "\n                    <br/>Synced <strong style=\"color:#cdcd00\">dense-3-[300, 300]</strong>: <a href=\"https://wandb.ai/nekotizimo/word-analogies/runs/zw9sbiqd\" target=\"_blank\">https://wandb.ai/nekotizimo/word-analogies/runs/zw9sbiqd</a><br/>\n                "
     },
     "metadata": {}
    }
   ],
   "source": [
    "model.compile(loss=mse_cossim, optimizer=config[\"optimizer\"], metrics=config[\"metrics\"])\n",
    "\n",
    "run = wandb.init(project=\"word-analogies\", name=config[\"architecture\"] + \"-\" + str(config[\"layers\"]) + \"-\" + str(config[\"hidden_layers\"]), config=config, notes=\"tweaked penalty\")\n",
    "\n",
    "model.fit(X_train, Y_train, batch_size=32, epochs=100, validation_data=(X_dev, Y_dev), callbacks=[WandbCallback()])\n",
    "\n",
    "if input(\"Save model? (y/n): \") == \"y\":\n",
    "    model.save(\"models/\" + config[\"architecture\"] + \"-\" + str(config[\"layers\"]) + \"-\" + str(config[\"hidden_layers\"]) + \"-\" + str(round(time.time())))\n",
    "\n",
    "run.finish()"
   ]
  },
  {
   "cell_type": "code",
   "execution_count": 172,
   "metadata": {},
   "outputs": [
    {
     "output_type": "stream",
     "name": "stdout",
     "text": [
      "62/62 - 0s - loss: -6.7752e-01 - mse: 0.2362\n"
     ]
    },
    {
     "output_type": "execute_result",
     "data": {
      "text/plain": [
       "(1955, 50)"
      ]
     },
     "metadata": {},
     "execution_count": 172
    }
   ],
   "source": [
    "model.evaluate(X_test, Y_test, verbose=2)\n",
    "Y_predict = model.predict(X_test)\n",
    "Y_predict.shape"
   ]
  },
  {
   "cell_type": "code",
   "execution_count": 173,
   "metadata": {},
   "outputs": [
    {
     "output_type": "stream",
     "name": "stdout",
     "text": [
      "sharper ['conversely', 'misses', 'importantly', 'bulletinyyy', 'srivalo'] Q: ['young' 'younger' 'sharp']\n",
      "Macedonian ['bulletinyyy', 'srivalo', 'piyanart', 'besides', 'ooooooooooooooooooooooooooooooooooooooo'] Q: ['Chile' 'Chilean' 'Macedonia']\n",
      "Gabon ['bulletinyyy', 'gabon', 'piyanart', 'srivalo', 'ooooooooooooooooooooooooooooooooooooooo'] Q: ['Georgetown' 'Guyana' 'Libreville']\n",
      "onions ['onions', 'cooked', 'broth', 'veggies', 'roasted'] Q: ['pig' 'pigs' 'onion']\n",
      "Iran ['adding', 'moreover', 'contribute', 'pressing', 'essential'] Q: ['Helsinki' 'Finland' 'Tehran']\n",
      "krone ['krone', 'oei', 'aust', 'petterson', 'kaylee'] Q: ['Nigeria' 'naira' 'Denmark']\n",
      "mom ['mom', 'treats', 'loves', 'reminds', 'dad'] Q: ['grandfather' 'grandmother' 'dad']\n",
      "Russia ['reach', 'besides', 'sets', 'moreover', 'adding'] Q: ['Kiev' 'Ukraine' 'Moscow']\n",
      "Chile ['chile', 'rica', 'whereas', 'namely', 'likewise'] Q: ['Mogadishu' 'Somalia' 'Santiago']\n",
      "generating ['generating', 'generates', 'absorbing', 'generate', 'generated'] Q: ['think' 'thinking' 'generate']\n"
     ]
    }
   ],
   "source": [
    "indices = np.random.randint(Y_predict.shape[0], size=10)\n",
    "for i, emb in enumerate(Y_predict[indices]):\n",
    "    print(Y_test_words[indices[i]], closest_neighbors(emb, 5), \"Q:\", X_test_words[indices[i]])"
   ]
  },
  {
   "cell_type": "code",
   "execution_count": 108,
   "metadata": {},
   "outputs": [],
   "source": [
    "minnesota = glove_mat[word_to_ind[\"minnesota\"]]\n",
    "bulletinyyy = glove_mat[word_to_ind[\"bulletinyyy\"]]\n",
    "florida = glove_mat[word_to_ind[\"florida\"]]\n",
    "instance = glove_mat[word_to_ind[\"instance\"]]"
   ]
  },
  {
   "cell_type": "code",
   "execution_count": 175,
   "metadata": {},
   "outputs": [
    {
     "output_type": "stream",
     "name": "stdout",
     "text": [
      "3.1332464376507314\n3.4258391633512217\n3.3534548890073057\n4.144025282606665\n3.1282103224588176\n0.3774952538484451\n0.3774078400358829\n0.6525149434571366\n5.0923254306985335\n0.05465219281056251\n"
     ]
    }
   ],
   "source": [
    "print(np.linalg.norm(glove_mat[word_to_ind[\"besides\"]]))\n",
    "print(np.linalg.norm(glove_mat[word_to_ind[\"instance\"]]))\n",
    "print(np.linalg.norm(glove_mat[word_to_ind[\"whereas\"]]))\n",
    "print(np.linalg.norm(glove_mat[word_to_ind[\"serves\"]]))\n",
    "print(np.linalg.norm(glove_mat[word_to_ind[\"additionally\"]]))\n",
    "print(np.linalg.norm(glove_mat[word_to_ind[\"piyanart\"]]))\n",
    "print(np.linalg.norm(glove_mat[word_to_ind[\"srivalo\"]]))\n",
    "print(np.linalg.norm(glove_mat[word_to_ind[\"ooooooooooooooooooooooooooooooooooooooo\"]]))\n",
    "print(np.linalg.norm(glove_mat[word_to_ind[\"gabon\"]]))\n",
    "print(np.linalg.norm(glove_mat[word_to_ind[\"bulletinyyy\"]]))"
   ]
  },
  {
   "cell_type": "code",
   "execution_count": 144,
   "metadata": {},
   "outputs": [
    {
     "output_type": "stream",
     "name": "stdout",
     "text": [
      "0.7552636357973507\n"
     ]
    }
   ],
   "source": [
    "# average mse across sample of words\n",
    "mean_squared_error = 0\n",
    "count = 0\n",
    "for i in range(40000):\n",
    "    word_1 = np.random.choice(words)\n",
    "    word_2 = np.random.choice(words)\n",
    "    mean_squared_error += np.mean((glove_mat[word_to_ind[word_1]] - glove_mat[word_to_ind[word_2]])**2)\n",
    "    count += 1\n",
    "mean_squared_error /= count\n",
    "print(mean_squared_error)"
   ]
  },
  {
   "cell_type": "code",
   "execution_count": null,
   "metadata": {},
   "outputs": [],
   "source": []
  }
 ]
}