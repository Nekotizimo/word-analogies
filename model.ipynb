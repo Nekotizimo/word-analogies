{
 "metadata": {
  "language_info": {
   "codemirror_mode": {
    "name": "ipython",
    "version": 3
   },
   "file_extension": ".py",
   "mimetype": "text/x-python",
   "name": "python",
   "nbconvert_exporter": "python",
   "pygments_lexer": "ipython3",
   "version": "3.7.6-final"
  },
  "orig_nbformat": 2,
  "kernelspec": {
   "name": "Python 3.7.6 64-bit ('base': conda)",
   "display_name": "Python 3.7.6 64-bit ('base': conda)",
   "metadata": {
    "interpreter": {
     "hash": "83fd730ee10b27fca59d2362f39572bacefb2dd12305df93b0609391fa4c55fb"
    }
   }
  }
 },
 "nbformat": 4,
 "nbformat_minor": 2,
 "cells": [
  {
   "cell_type": "code",
   "execution_count": 3,
   "metadata": {},
   "outputs": [],
   "source": [
    "import numpy as np\n",
    "import keras\n",
    "import keras.layers as layers\n",
    "import pickle"
   ]
  },
  {
   "cell_type": "code",
   "execution_count": 2,
   "metadata": {},
   "outputs": [],
   "source": [
    "glove_mat = np.load(\"./data/glove_6B_50d.npy\")\n",
    "words = np.load(\"./data/words_6B_50d.npy\")\n",
    "with open(\"./data/word_to_ind_6B_50d.pkl\", \"rb\") as f:\n",
    "    word_to_ind = pickle.load(f)"
   ]
  },
  {
   "cell_type": "code",
   "execution_count": 19,
   "metadata": {},
   "outputs": [
    {
     "output_type": "stream",
     "name": "stdout",
     "text": [
      "Model: \"analogy_model\"\n_________________________________________________________________\nLayer (type)                 Output Shape              Param #   \n=================================================================\ninput_8 (InputLayer)         [(None, 150)]             0         \n_________________________________________________________________\ndense_20 (Dense)             (None, 150)               22650     \n_________________________________________________________________\ndropout_13 (Dropout)         (None, 150)               0         \n_________________________________________________________________\ndense_21 (Dense)             (None, 100)               15100     \n_________________________________________________________________\ndropout_14 (Dropout)         (None, 100)               0         \n_________________________________________________________________\ndense_22 (Dense)             (None, 50)                5050      \n=================================================================\nTotal params: 42,800\nTrainable params: 42,800\nNon-trainable params: 0\n_________________________________________________________________\n"
     ]
    }
   ],
   "source": [
    "inputs = layers.Input(shape=(150))\n",
    "\n",
    "X = layers.Dense(150, activation=\"relu\")(inputs)\n",
    "X = layers.Dropout(0.2)(X)\n",
    "\n",
    "X = layers.Dense(100, activation=\"relu\")(X)\n",
    "X = layers.Dropout(0.2)(X)\n",
    "\n",
    "Y = layers.Dense(50, activation=\"relu\")(X)\n",
    "\n",
    "model = keras.Model(inputs=inputs, outputs=Y, name=\"analogy_model\")\n",
    "model.summary()\n"
   ]
  },
  {
   "cell_type": "code",
   "execution_count": 32,
   "metadata": {},
   "outputs": [],
   "source": [
    "X_train = np.load(\"./data/google_mikolov/X_train.npy\")\n",
    "X_dev = np.load(\"./data/google_mikolov/X_dev.npy\")\n",
    "X_test = np.load(\"./data/google_mikolov/X_test.npy\")\n",
    "X_test_words = np.load(\"./data/google_mikolov/X_test_words.npy\")\n",
    "\n",
    "Y_train = np.load(\"./data/google_mikolov/Y_train.npy\")\n",
    "Y_dev = np.load(\"./data/google_mikolov/Y_dev.npy\")\n",
    "Y_test = np.load(\"./data/google_mikolov/Y_test.npy\")\n",
    "Y_test_words = np.load(\"./data/google_mikolov/Y_test_words.npy\")"
   ]
  },
  {
   "cell_type": "code",
   "execution_count": 29,
   "metadata": {},
   "outputs": [
    {
     "output_type": "stream",
     "name": "stdout",
     "text": [
      "Epoch 1/100\n",
      "245/245 [==============================] - 0s 1ms/step - loss: 0.2680 - mean_squared_error: 0.2680 - val_loss: 0.2517 - val_mean_squared_error: 0.2517\n",
      "Epoch 2/100\n",
      "245/245 [==============================] - 0s 998us/step - loss: 0.2673 - mean_squared_error: 0.2673 - val_loss: 0.2511 - val_mean_squared_error: 0.2511\n",
      "Epoch 3/100\n",
      "245/245 [==============================] - 0s 1ms/step - loss: 0.2675 - mean_squared_error: 0.2675 - val_loss: 0.2517 - val_mean_squared_error: 0.2517\n",
      "Epoch 4/100\n",
      "245/245 [==============================] - 0s 1ms/step - loss: 0.2673 - mean_squared_error: 0.2673 - val_loss: 0.2513 - val_mean_squared_error: 0.2513\n",
      "Epoch 5/100\n",
      "245/245 [==============================] - 0s 1ms/step - loss: 0.2674 - mean_squared_error: 0.2674 - val_loss: 0.2515 - val_mean_squared_error: 0.2515\n",
      "Epoch 6/100\n",
      "245/245 [==============================] - 0s 1ms/step - loss: 0.2674 - mean_squared_error: 0.2674 - val_loss: 0.2514 - val_mean_squared_error: 0.2514\n",
      "Epoch 7/100\n",
      "245/245 [==============================] - 0s 990us/step - loss: 0.2673 - mean_squared_error: 0.2673 - val_loss: 0.2516 - val_mean_squared_error: 0.2516\n",
      "Epoch 8/100\n",
      "245/245 [==============================] - 0s 1ms/step - loss: 0.2673 - mean_squared_error: 0.2673 - val_loss: 0.2513 - val_mean_squared_error: 0.2513\n",
      "Epoch 9/100\n",
      "245/245 [==============================] - 0s 2ms/step - loss: 0.2672 - mean_squared_error: 0.2672 - val_loss: 0.2514 - val_mean_squared_error: 0.2514\n",
      "Epoch 10/100\n",
      "245/245 [==============================] - 0s 1ms/step - loss: 0.2675 - mean_squared_error: 0.2675 - val_loss: 0.2510 - val_mean_squared_error: 0.2510\n",
      "Epoch 11/100\n",
      "245/245 [==============================] - 0s 1ms/step - loss: 0.2674 - mean_squared_error: 0.2674 - val_loss: 0.2517 - val_mean_squared_error: 0.2517\n",
      "Epoch 12/100\n",
      "245/245 [==============================] - 0s 1ms/step - loss: 0.2674 - mean_squared_error: 0.2674 - val_loss: 0.2519 - val_mean_squared_error: 0.2519\n",
      "Epoch 13/100\n",
      "245/245 [==============================] - 0s 1ms/step - loss: 0.2672 - mean_squared_error: 0.2672 - val_loss: 0.2514 - val_mean_squared_error: 0.2514\n",
      "Epoch 14/100\n",
      "245/245 [==============================] - 0s 1ms/step - loss: 0.2673 - mean_squared_error: 0.2673 - val_loss: 0.2513 - val_mean_squared_error: 0.2513\n",
      "Epoch 15/100\n",
      "245/245 [==============================] - 0s 1ms/step - loss: 0.2671 - mean_squared_error: 0.2671 - val_loss: 0.2514 - val_mean_squared_error: 0.2514\n",
      "Epoch 16/100\n",
      "245/245 [==============================] - 0s 1ms/step - loss: 0.2671 - mean_squared_error: 0.2671 - val_loss: 0.2515 - val_mean_squared_error: 0.2515\n",
      "Epoch 17/100\n",
      "245/245 [==============================] - 0s 996us/step - loss: 0.2671 - mean_squared_error: 0.2671 - val_loss: 0.2515 - val_mean_squared_error: 0.2515\n",
      "Epoch 18/100\n",
      "245/245 [==============================] - 0s 1ms/step - loss: 0.2672 - mean_squared_error: 0.2672 - val_loss: 0.2513 - val_mean_squared_error: 0.2513\n",
      "Epoch 19/100\n",
      "245/245 [==============================] - 0s 1ms/step - loss: 0.2671 - mean_squared_error: 0.2671 - val_loss: 0.2514 - val_mean_squared_error: 0.2514\n",
      "Epoch 20/100\n",
      "245/245 [==============================] - 0s 1ms/step - loss: 0.2671 - mean_squared_error: 0.2671 - val_loss: 0.2511 - val_mean_squared_error: 0.2511\n",
      "Epoch 21/100\n",
      "245/245 [==============================] - 0s 1ms/step - loss: 0.2671 - mean_squared_error: 0.2671 - val_loss: 0.2513 - val_mean_squared_error: 0.2513\n",
      "Epoch 22/100\n",
      "245/245 [==============================] - 0s 1ms/step - loss: 0.2671 - mean_squared_error: 0.2671 - val_loss: 0.2513 - val_mean_squared_error: 0.2513\n",
      "Epoch 23/100\n",
      "245/245 [==============================] - 0s 1ms/step - loss: 0.2669 - mean_squared_error: 0.2669 - val_loss: 0.2514 - val_mean_squared_error: 0.2514\n",
      "Epoch 24/100\n",
      "245/245 [==============================] - 0s 1ms/step - loss: 0.2670 - mean_squared_error: 0.2670 - val_loss: 0.2514 - val_mean_squared_error: 0.2514\n",
      "Epoch 25/100\n",
      "245/245 [==============================] - 0s 1ms/step - loss: 0.2670 - mean_squared_error: 0.2670 - val_loss: 0.2514 - val_mean_squared_error: 0.2514\n",
      "Epoch 26/100\n",
      "245/245 [==============================] - 0s 2ms/step - loss: 0.2671 - mean_squared_error: 0.2671 - val_loss: 0.2513 - val_mean_squared_error: 0.2513\n",
      "Epoch 27/100\n",
      "245/245 [==============================] - 0s 2ms/step - loss: 0.2671 - mean_squared_error: 0.2671 - val_loss: 0.2513 - val_mean_squared_error: 0.2513\n",
      "Epoch 28/100\n",
      "245/245 [==============================] - 0s 1ms/step - loss: 0.2668 - mean_squared_error: 0.2668 - val_loss: 0.2515 - val_mean_squared_error: 0.2515\n",
      "Epoch 29/100\n",
      "245/245 [==============================] - 0s 1ms/step - loss: 0.2669 - mean_squared_error: 0.2669 - val_loss: 0.2516 - val_mean_squared_error: 0.2516\n",
      "Epoch 30/100\n",
      "245/245 [==============================] - 0s 1ms/step - loss: 0.2669 - mean_squared_error: 0.2669 - val_loss: 0.2511 - val_mean_squared_error: 0.2511\n",
      "Epoch 31/100\n",
      "245/245 [==============================] - 0s 1ms/step - loss: 0.2670 - mean_squared_error: 0.2670 - val_loss: 0.2512 - val_mean_squared_error: 0.2512\n",
      "Epoch 32/100\n",
      "245/245 [==============================] - 0s 1ms/step - loss: 0.2670 - mean_squared_error: 0.2670 - val_loss: 0.2515 - val_mean_squared_error: 0.2515\n",
      "Epoch 33/100\n",
      "245/245 [==============================] - 0s 1ms/step - loss: 0.2668 - mean_squared_error: 0.2668 - val_loss: 0.2511 - val_mean_squared_error: 0.2511\n",
      "Epoch 34/100\n",
      "245/245 [==============================] - 0s 1ms/step - loss: 0.2671 - mean_squared_error: 0.2671 - val_loss: 0.2512 - val_mean_squared_error: 0.2512\n",
      "Epoch 35/100\n",
      "245/245 [==============================] - 0s 1ms/step - loss: 0.2669 - mean_squared_error: 0.2669 - val_loss: 0.2516 - val_mean_squared_error: 0.2516\n",
      "Epoch 36/100\n",
      "245/245 [==============================] - 0s 1ms/step - loss: 0.2669 - mean_squared_error: 0.2669 - val_loss: 0.2513 - val_mean_squared_error: 0.2513\n",
      "Epoch 37/100\n",
      "245/245 [==============================] - 0s 1ms/step - loss: 0.2668 - mean_squared_error: 0.2668 - val_loss: 0.2512 - val_mean_squared_error: 0.2512\n",
      "Epoch 38/100\n",
      "245/245 [==============================] - 0s 1ms/step - loss: 0.2668 - mean_squared_error: 0.2668 - val_loss: 0.2513 - val_mean_squared_error: 0.2513\n",
      "Epoch 39/100\n",
      "245/245 [==============================] - 0s 1ms/step - loss: 0.2667 - mean_squared_error: 0.2667 - val_loss: 0.2509 - val_mean_squared_error: 0.2509\n",
      "Epoch 40/100\n",
      "245/245 [==============================] - 0s 1ms/step - loss: 0.2665 - mean_squared_error: 0.2665 - val_loss: 0.2511 - val_mean_squared_error: 0.2511\n",
      "Epoch 41/100\n",
      "245/245 [==============================] - 0s 1ms/step - loss: 0.2666 - mean_squared_error: 0.2666 - val_loss: 0.2511 - val_mean_squared_error: 0.2511\n",
      "Epoch 42/100\n",
      "245/245 [==============================] - 0s 1ms/step - loss: 0.2667 - mean_squared_error: 0.2667 - val_loss: 0.2512 - val_mean_squared_error: 0.2512\n",
      "Epoch 43/100\n",
      "245/245 [==============================] - 0s 2ms/step - loss: 0.2664 - mean_squared_error: 0.2664 - val_loss: 0.2507 - val_mean_squared_error: 0.2507\n",
      "Epoch 44/100\n",
      "245/245 [==============================] - 0s 1ms/step - loss: 0.2666 - mean_squared_error: 0.2666 - val_loss: 0.2511 - val_mean_squared_error: 0.2511\n",
      "Epoch 45/100\n",
      "245/245 [==============================] - 0s 1ms/step - loss: 0.2667 - mean_squared_error: 0.2667 - val_loss: 0.2506 - val_mean_squared_error: 0.2506\n",
      "Epoch 46/100\n",
      "245/245 [==============================] - 0s 1ms/step - loss: 0.2666 - mean_squared_error: 0.2666 - val_loss: 0.2514 - val_mean_squared_error: 0.2514\n",
      "Epoch 47/100\n",
      "245/245 [==============================] - 0s 1ms/step - loss: 0.2665 - mean_squared_error: 0.2665 - val_loss: 0.2511 - val_mean_squared_error: 0.2511\n",
      "Epoch 48/100\n",
      "245/245 [==============================] - 0s 1ms/step - loss: 0.2665 - mean_squared_error: 0.2665 - val_loss: 0.2508 - val_mean_squared_error: 0.2508\n",
      "Epoch 49/100\n",
      "245/245 [==============================] - 0s 1ms/step - loss: 0.2668 - mean_squared_error: 0.2668 - val_loss: 0.2509 - val_mean_squared_error: 0.2509\n",
      "Epoch 50/100\n",
      "245/245 [==============================] - 0s 1ms/step - loss: 0.2668 - mean_squared_error: 0.2668 - val_loss: 0.2511 - val_mean_squared_error: 0.2511\n",
      "Epoch 51/100\n",
      "245/245 [==============================] - 0s 1ms/step - loss: 0.2666 - mean_squared_error: 0.2666 - val_loss: 0.2510 - val_mean_squared_error: 0.2510\n",
      "Epoch 52/100\n",
      "245/245 [==============================] - 0s 1ms/step - loss: 0.2667 - mean_squared_error: 0.2667 - val_loss: 0.2509 - val_mean_squared_error: 0.2509\n",
      "Epoch 53/100\n",
      "245/245 [==============================] - 0s 1ms/step - loss: 0.2666 - mean_squared_error: 0.2666 - val_loss: 0.2514 - val_mean_squared_error: 0.2514\n",
      "Epoch 54/100\n",
      "245/245 [==============================] - 0s 1ms/step - loss: 0.2667 - mean_squared_error: 0.2667 - val_loss: 0.2511 - val_mean_squared_error: 0.2511\n",
      "Epoch 55/100\n",
      "245/245 [==============================] - 0s 1ms/step - loss: 0.2664 - mean_squared_error: 0.2664 - val_loss: 0.2512 - val_mean_squared_error: 0.2512\n",
      "Epoch 56/100\n",
      "245/245 [==============================] - 0s 1ms/step - loss: 0.2664 - mean_squared_error: 0.2664 - val_loss: 0.2510 - val_mean_squared_error: 0.2510\n",
      "Epoch 57/100\n",
      "245/245 [==============================] - 0s 1ms/step - loss: 0.2666 - mean_squared_error: 0.2666 - val_loss: 0.2508 - val_mean_squared_error: 0.2508\n",
      "Epoch 58/100\n",
      "245/245 [==============================] - 0s 1ms/step - loss: 0.2667 - mean_squared_error: 0.2667 - val_loss: 0.2508 - val_mean_squared_error: 0.2508\n",
      "Epoch 59/100\n",
      "245/245 [==============================] - 0s 1ms/step - loss: 0.2662 - mean_squared_error: 0.2662 - val_loss: 0.2510 - val_mean_squared_error: 0.2510\n",
      "Epoch 60/100\n",
      "245/245 [==============================] - 0s 1ms/step - loss: 0.2664 - mean_squared_error: 0.2664 - val_loss: 0.2516 - val_mean_squared_error: 0.2516\n",
      "Epoch 61/100\n",
      "245/245 [==============================] - 0s 1ms/step - loss: 0.2662 - mean_squared_error: 0.2662 - val_loss: 0.2510 - val_mean_squared_error: 0.2510\n",
      "Epoch 62/100\n",
      "245/245 [==============================] - 0s 1ms/step - loss: 0.2663 - mean_squared_error: 0.2663 - val_loss: 0.2510 - val_mean_squared_error: 0.2510\n",
      "Epoch 63/100\n",
      "245/245 [==============================] - 0s 2ms/step - loss: 0.2666 - mean_squared_error: 0.2666 - val_loss: 0.2508 - val_mean_squared_error: 0.2508\n",
      "Epoch 64/100\n",
      "245/245 [==============================] - 0s 1ms/step - loss: 0.2667 - mean_squared_error: 0.2667 - val_loss: 0.2507 - val_mean_squared_error: 0.2507\n",
      "Epoch 65/100\n",
      "245/245 [==============================] - 0s 1ms/step - loss: 0.2663 - mean_squared_error: 0.2663 - val_loss: 0.2509 - val_mean_squared_error: 0.2509\n",
      "Epoch 66/100\n",
      "245/245 [==============================] - 0s 1ms/step - loss: 0.2666 - mean_squared_error: 0.2666 - val_loss: 0.2508 - val_mean_squared_error: 0.2508\n",
      "Epoch 67/100\n",
      "245/245 [==============================] - 0s 1ms/step - loss: 0.2662 - mean_squared_error: 0.2662 - val_loss: 0.2509 - val_mean_squared_error: 0.2509\n",
      "Epoch 68/100\n",
      "245/245 [==============================] - 0s 1ms/step - loss: 0.2665 - mean_squared_error: 0.2665 - val_loss: 0.2511 - val_mean_squared_error: 0.2511\n",
      "Epoch 69/100\n",
      "245/245 [==============================] - 0s 1ms/step - loss: 0.2665 - mean_squared_error: 0.2665 - val_loss: 0.2510 - val_mean_squared_error: 0.2510\n",
      "Epoch 70/100\n",
      "245/245 [==============================] - 0s 1ms/step - loss: 0.2667 - mean_squared_error: 0.2667 - val_loss: 0.2508 - val_mean_squared_error: 0.2508\n",
      "Epoch 71/100\n",
      "245/245 [==============================] - 0s 1ms/step - loss: 0.2665 - mean_squared_error: 0.2665 - val_loss: 0.2509 - val_mean_squared_error: 0.2509\n",
      "Epoch 72/100\n",
      "245/245 [==============================] - 0s 1ms/step - loss: 0.2665 - mean_squared_error: 0.2665 - val_loss: 0.2508 - val_mean_squared_error: 0.2508\n",
      "Epoch 73/100\n",
      "245/245 [==============================] - 0s 1ms/step - loss: 0.2667 - mean_squared_error: 0.2667 - val_loss: 0.2504 - val_mean_squared_error: 0.2504\n",
      "Epoch 74/100\n",
      "245/245 [==============================] - 0s 1ms/step - loss: 0.2662 - mean_squared_error: 0.2662 - val_loss: 0.2510 - val_mean_squared_error: 0.2510\n",
      "Epoch 75/100\n",
      "245/245 [==============================] - 0s 1ms/step - loss: 0.2662 - mean_squared_error: 0.2662 - val_loss: 0.2510 - val_mean_squared_error: 0.2510\n",
      "Epoch 76/100\n",
      "245/245 [==============================] - 0s 1ms/step - loss: 0.2663 - mean_squared_error: 0.2663 - val_loss: 0.2509 - val_mean_squared_error: 0.2509\n",
      "Epoch 77/100\n",
      "245/245 [==============================] - 0s 1ms/step - loss: 0.2663 - mean_squared_error: 0.2663 - val_loss: 0.2510 - val_mean_squared_error: 0.2510\n",
      "Epoch 78/100\n",
      "245/245 [==============================] - 0s 1ms/step - loss: 0.2663 - mean_squared_error: 0.2663 - val_loss: 0.2505 - val_mean_squared_error: 0.2505\n",
      "Epoch 79/100\n",
      "245/245 [==============================] - 0s 1ms/step - loss: 0.2664 - mean_squared_error: 0.2664 - val_loss: 0.2509 - val_mean_squared_error: 0.2509\n",
      "Epoch 80/100\n",
      "245/245 [==============================] - 0s 2ms/step - loss: 0.2665 - mean_squared_error: 0.2665 - val_loss: 0.2509 - val_mean_squared_error: 0.2509\n",
      "Epoch 81/100\n",
      "245/245 [==============================] - 0s 1ms/step - loss: 0.2663 - mean_squared_error: 0.2663 - val_loss: 0.2506 - val_mean_squared_error: 0.2506\n",
      "Epoch 82/100\n",
      "245/245 [==============================] - 0s 1ms/step - loss: 0.2662 - mean_squared_error: 0.2662 - val_loss: 0.2509 - val_mean_squared_error: 0.2509\n",
      "Epoch 83/100\n",
      "245/245 [==============================] - 0s 1ms/step - loss: 0.2665 - mean_squared_error: 0.2665 - val_loss: 0.2509 - val_mean_squared_error: 0.2509\n",
      "Epoch 84/100\n",
      "245/245 [==============================] - 0s 1ms/step - loss: 0.2661 - mean_squared_error: 0.2661 - val_loss: 0.2508 - val_mean_squared_error: 0.2508\n",
      "Epoch 85/100\n",
      "245/245 [==============================] - 0s 1ms/step - loss: 0.2663 - mean_squared_error: 0.2663 - val_loss: 0.2507 - val_mean_squared_error: 0.2507\n",
      "Epoch 86/100\n",
      "245/245 [==============================] - 0s 1ms/step - loss: 0.2663 - mean_squared_error: 0.2663 - val_loss: 0.2508 - val_mean_squared_error: 0.2508\n",
      "Epoch 87/100\n",
      "245/245 [==============================] - 0s 1ms/step - loss: 0.2662 - mean_squared_error: 0.2662 - val_loss: 0.2507 - val_mean_squared_error: 0.2507\n",
      "Epoch 88/100\n",
      "245/245 [==============================] - 0s 1ms/step - loss: 0.2661 - mean_squared_error: 0.2661 - val_loss: 0.2508 - val_mean_squared_error: 0.2508\n",
      "Epoch 89/100\n",
      "245/245 [==============================] - 0s 1ms/step - loss: 0.2661 - mean_squared_error: 0.2661 - val_loss: 0.2504 - val_mean_squared_error: 0.2504\n",
      "Epoch 90/100\n",
      "245/245 [==============================] - 0s 1ms/step - loss: 0.2660 - mean_squared_error: 0.2660 - val_loss: 0.2508 - val_mean_squared_error: 0.2508\n",
      "Epoch 91/100\n",
      "245/245 [==============================] - 0s 1ms/step - loss: 0.2664 - mean_squared_error: 0.2664 - val_loss: 0.2507 - val_mean_squared_error: 0.2507\n",
      "Epoch 92/100\n",
      "245/245 [==============================] - 0s 1ms/step - loss: 0.2662 - mean_squared_error: 0.2662 - val_loss: 0.2506 - val_mean_squared_error: 0.2506\n",
      "Epoch 93/100\n",
      "245/245 [==============================] - 0s 1ms/step - loss: 0.2659 - mean_squared_error: 0.2659 - val_loss: 0.2507 - val_mean_squared_error: 0.2507\n",
      "Epoch 94/100\n",
      "245/245 [==============================] - 0s 1ms/step - loss: 0.2662 - mean_squared_error: 0.2662 - val_loss: 0.2506 - val_mean_squared_error: 0.2506\n",
      "Epoch 95/100\n",
      "245/245 [==============================] - 0s 2ms/step - loss: 0.2661 - mean_squared_error: 0.2661 - val_loss: 0.2509 - val_mean_squared_error: 0.2509\n",
      "Epoch 96/100\n",
      "245/245 [==============================] - 0s 1ms/step - loss: 0.2662 - mean_squared_error: 0.2662 - val_loss: 0.2505 - val_mean_squared_error: 0.2505\n",
      "Epoch 97/100\n",
      "245/245 [==============================] - 0s 1ms/step - loss: 0.2660 - mean_squared_error: 0.2660 - val_loss: 0.2507 - val_mean_squared_error: 0.2507\n",
      "Epoch 98/100\n",
      "245/245 [==============================] - 0s 1ms/step - loss: 0.2663 - mean_squared_error: 0.2663 - val_loss: 0.2506 - val_mean_squared_error: 0.2506\n",
      "Epoch 99/100\n",
      "245/245 [==============================] - 0s 1ms/step - loss: 0.2661 - mean_squared_error: 0.2661 - val_loss: 0.2507 - val_mean_squared_error: 0.2507\n",
      "Epoch 100/100\n",
      "245/245 [==============================] - 0s 1ms/step - loss: 0.2664 - mean_squared_error: 0.2664 - val_loss: 0.2508 - val_mean_squared_error: 0.2508\n"
     ]
    },
    {
     "output_type": "execute_result",
     "data": {
      "text/plain": [
       "<tensorflow.python.keras.callbacks.History at 0x7ff2d9fc8550>"
      ]
     },
     "metadata": {},
     "execution_count": 29
    }
   ],
   "source": [
    "model.compile(loss=keras.losses.MeanSquaredError(), metrics=[keras.metrics.MeanSquaredError()])\n",
    "model.fit(X_train, Y_train, batch_size=64, epochs=100, validation_data=(X_dev, Y_dev))"
   ]
  },
  {
   "cell_type": "code",
   "execution_count": 30,
   "metadata": {},
   "outputs": [
    {
     "output_type": "stream",
     "name": "stdout",
     "text": [
      "62/62 - 0s - loss: 0.2479 - mean_squared_error: 0.2479\n"
     ]
    },
    {
     "output_type": "execute_result",
     "data": {
      "text/plain": [
       "[0.24789227545261383, 0.24789227545261383]"
      ]
     },
     "metadata": {},
     "execution_count": 30
    }
   ],
   "source": [
    "model.evaluate(X_test, Y_test, verbose=2)"
   ]
  },
  {
   "cell_type": "code",
   "execution_count": 31,
   "metadata": {},
   "outputs": [
    {
     "output_type": "execute_result",
     "data": {
      "text/plain": [
       "(1955, 50)"
      ]
     },
     "metadata": {},
     "execution_count": 31
    }
   ],
   "source": [
    "Y_predict = model.predict(X_test)\n",
    "Y_predict.shape"
   ]
  },
  {
   "cell_type": "code",
   "execution_count": 34,
   "metadata": {},
   "outputs": [],
   "source": [
    "def closest_neighbors(embedding, n):\n",
    "    neighbors = sorted(words, key=lambda word: np.linalg.norm(embedding - glove_mat[word_to_ind[word]]))\n",
    "    return neighbors[:n]"
   ]
  },
  {
   "cell_type": "code",
   "execution_count": 40,
   "metadata": {},
   "outputs": [
    {
     "output_type": "stream",
     "name": "stdout",
     "text": [
      "unfortunate ['fortunately', 'incidentally', 'luckily', 'unfortunately', 'misses'] Q: ['clear' 'unclear' 'fortunate']\n",
      "reading ['besides', 'shared', 'whereas', 'additionally', 'instance'] Q: ['say' 'saying' 'read']\n",
      "Gambia ['mo95', 'bdb94', 'k978-1', 'k977-1', 'http://www.mediabynumb'] Q: ['Tokyo' 'Japan' 'Banjul']\n",
      "Honduras ['http://www.mediabynumb', 'bdb94', 'bb96', 'k977-1', 'mo95'] Q: ['Skopje' 'Macedonia' 'Tegucigalpa']\n",
      "luckily ['fortunately', 'luckily', 'incidentally', 'srivalo', 'piyanart'] Q: ['rare' 'rarely' 'lucky']\n",
      "talks ['adding', 'resume', 'sharing', 'discussing', 'discussions'] Q: ['increase' 'increases' 'talk']\n",
      "California ['serves', 'additionally', 'besides', 'instance', 'addition'] Q: ['Denver' 'Colorado' 'Sacramento']\n",
      "Mexican ['instance', 'besides', 'exception', 'except', 'likewise'] Q: ['Peru' 'Peruvian' 'Mexico']\n",
      "safely ['safely', 'fortunately', 'presumably', 'stays', 'ideally'] Q: ['lucky' 'luckily' 'safe']\n",
      "debugging ['visualizing', 'technobabble', 'optimizes', 'fine-tuning', 'video-based'] Q: ['slow' 'slowing' 'debug']\n"
     ]
    }
   ],
   "source": [
    "indices = np.random.randint(Y_predict.shape[0], size=10)\n",
    "for i, emb in enumerate(Y_predict[indices]):\n",
    "    print(Y_test_words[indices[i]], closest_neighbors(emb, 5), \"Q:\", X_test_words[indices[i]])"
   ]
  },
  {
   "cell_type": "code",
   "execution_count": null,
   "metadata": {},
   "outputs": [],
   "source": []
  }
 ]
}