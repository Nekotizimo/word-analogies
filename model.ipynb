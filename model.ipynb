{
 "metadata": {
  "language_info": {
   "codemirror_mode": {
    "name": "ipython",
    "version": 3
   },
   "file_extension": ".py",
   "mimetype": "text/x-python",
   "name": "python",
   "nbconvert_exporter": "python",
   "pygments_lexer": "ipython3",
   "version": "3.7.6-final"
  },
  "orig_nbformat": 2,
  "kernelspec": {
   "name": "Python 3.7.6 64-bit ('base': conda)",
   "display_name": "Python 3.7.6 64-bit ('base': conda)",
   "metadata": {
    "interpreter": {
     "hash": "83fd730ee10b27fca59d2362f39572bacefb2dd12305df93b0609391fa4c55fb"
    }
   }
  }
 },
 "nbformat": 4,
 "nbformat_minor": 2,
 "cells": [
  {
   "cell_type": "code",
   "execution_count": 96,
   "metadata": {},
   "outputs": [],
   "source": [
    "import numpy as np\n",
    "import tensorflow as tf\n",
    "import keras\n",
    "import keras.layers as layers\n",
    "import pickle\n",
    "import wandb\n",
    "from wandb.keras import WandbCallback\n",
    "import time"
   ]
  },
  {
   "cell_type": "code",
   "execution_count": 35,
   "metadata": {},
   "outputs": [],
   "source": [
    "glove_mat = np.load(\"./data/glove_6B_50d.npy\")\n",
    "words = np.load(\"./data/words_6B_50d.npy\")\n",
    "with open(\"./data/word_to_ind_6B_50d.pkl\", \"rb\") as f:\n",
    "    word_to_ind = pickle.load(f)"
   ]
  },
  {
   "cell_type": "code",
   "execution_count": 36,
   "metadata": {},
   "outputs": [],
   "source": [
    "X_train = np.load(\"./data/google_mikolov/X_train.npy\")\n",
    "X_dev = np.load(\"./data/google_mikolov/X_dev.npy\")\n",
    "X_test = np.load(\"./data/google_mikolov/X_test.npy\")\n",
    "X_test_words = np.load(\"./data/google_mikolov/X_test_words.npy\")\n",
    "\n",
    "Y_train = np.load(\"./data/google_mikolov/Y_train.npy\")\n",
    "Y_dev = np.load(\"./data/google_mikolov/Y_dev.npy\")\n",
    "Y_test = np.load(\"./data/google_mikolov/Y_test.npy\")\n",
    "Y_test_words = np.load(\"./data/google_mikolov/Y_test_words.npy\")"
   ]
  },
  {
   "cell_type": "code",
   "execution_count": 48,
   "metadata": {},
   "outputs": [],
   "source": [
    "def dist(a, b):\n",
    "    return np.linalg.norm(glove_mat[word_to_ind[a]] - glove_mat[word_to_ind[b]])\n",
    "\n",
    "def closest_neighbors(embedding, n):\n",
    "    neighbors = sorted(words, key=lambda word: np.linalg.norm(embedding - glove_mat[word_to_ind[word]]))\n",
    "    return neighbors[:n]"
   ]
  },
  {
   "cell_type": "code",
   "execution_count": 128,
   "metadata": {},
   "outputs": [
    {
     "output_type": "stream",
     "name": "stdout",
     "text": [
      "tf.Tensor(1.0125517529035342, shape=(), dtype=float64)\ntf.Tensor(0.5664634466615177, shape=(), dtype=float64)\n"
     ]
    }
   ],
   "source": [
    "delta = 1.0\n",
    "h = 1.0\n",
    "\n",
    "def mse_large(y_true, y_pred):\n",
    "    mse = keras.losses.mse(y_true, y_pred)\n",
    "    # penalty = tf.divide(delta, tf.math.add(h, tf.norm(y_pred))) \n",
    "    penalty = tf.maximum(0.0, tf.multiply(-0.5/5.0, tf.subtract(tf.norm(y_pred), 5.0)))\n",
    "    # print(mse, penalty)\n",
    "    return tf.math.add(mse, penalty)\n",
    "\n",
    "print(mse_large(minnesota, bulletinyyy))\n",
    "print(mse_large(florida, instance))"
   ]
  },
  {
   "cell_type": "code",
   "execution_count": 122,
   "metadata": {},
   "outputs": [
    {
     "output_type": "stream",
     "name": "stdout",
     "text": [
      "Model: \"analogy_model\"\n_________________________________________________________________\nLayer (type)                 Output Shape              Param #   \n=================================================================\ninput_18 (InputLayer)        [(None, 150)]             0         \n_________________________________________________________________\ndense_58 (Dense)             (None, 300)               45300     \n_________________________________________________________________\ndropout_41 (Dropout)         (None, 300)               0         \n_________________________________________________________________\ndense_59 (Dense)             (None, 300)               90300     \n_________________________________________________________________\ndropout_42 (Dropout)         (None, 300)               0         \n_________________________________________________________________\ndense_60 (Dense)             (None, 50)                15050     \n=================================================================\nTotal params: 150,650\nTrainable params: 150,650\nNon-trainable params: 0\n_________________________________________________________________\n"
     ]
    }
   ],
   "source": [
    "config = {\n",
    "    \"architecture\": \"dense\",\n",
    "    \"dataset\": \"google_mikolov\",\n",
    "    \"optimizer\": \"adam\",\n",
    "    \"loss\": \"mse_large\",\n",
    "    \"metrics\": [\"mse\"],\n",
    "    \"layers\": 3,\n",
    "    \"hidden_layers\": [300, 300]\n",
    "}\n",
    "\n",
    "inputs = layers.Input(shape=(150))\n",
    "X = inputs\n",
    "\n",
    "assert(config[\"layers\"] == len(config[\"hidden_layers\"]) + 1)\n",
    "\n",
    "for size in config[\"hidden_layers\"]:\n",
    "    X = layers.Dense(size, activation=\"relu\")(X)\n",
    "    X = layers.Dropout(0.2)(X)\n",
    "\n",
    "Y = layers.Dense(50, activation=\"relu\")(X)\n",
    "\n",
    "model = keras.Model(inputs=inputs, outputs=Y, name=\"analogy_model\")\n",
    "model.summary()\n"
   ]
  },
  {
   "cell_type": "code",
   "execution_count": 129,
   "metadata": {},
   "outputs": [
    {
     "output_type": "stream",
     "name": "stderr",
     "text": [
      "\u001b[34m\u001b[1mwandb\u001b[0m: \u001b[33mWARNING\u001b[0m Calling wandb.login() after wandb.init() has no effect.\n"
     ]
    },
    {
     "output_type": "display_data",
     "data": {
      "text/plain": "<IPython.core.display.HTML object>",
      "text/html": "<br/>Waiting for W&B process to finish, PID 86435<br/>Program ended successfully."
     },
     "metadata": {}
    },
    {
     "output_type": "display_data",
     "data": {
      "text/plain": "VBox(children=(Label(value=' 0.00MB of 0.00MB uploaded (0.00MB deduped)\\r'), FloatProgress(value=1.0, max=1.0)…",
      "application/vnd.jupyter.widget-view+json": {
       "version_major": 2,
       "version_minor": 0,
       "model_id": "b22595d1c02d404badc0c6d3018de2bf"
      }
     },
     "metadata": {}
    },
    {
     "output_type": "display_data",
     "data": {
      "text/plain": "<IPython.core.display.HTML object>",
      "text/html": "Find user logs for this run at: <code>wandb/run-20201009_150649-2hty9g1t/logs/debug.log</code>"
     },
     "metadata": {}
    },
    {
     "output_type": "display_data",
     "data": {
      "text/plain": "<IPython.core.display.HTML object>",
      "text/html": "Find internal logs for this run at: <code>wandb/run-20201009_150649-2hty9g1t/logs/debug-internal.log</code>"
     },
     "metadata": {}
    },
    {
     "output_type": "display_data",
     "data": {
      "text/plain": "<IPython.core.display.HTML object>",
      "text/html": "Synced 5 W&B file(s), 0 media file(s), 0 artifact file(s) and 0 other file(s)"
     },
     "metadata": {}
    },
    {
     "output_type": "display_data",
     "data": {
      "text/plain": "<IPython.core.display.HTML object>",
      "text/html": "\n                    <br/>Synced <strong style=\"color:#cdcd00\">dense-3-[300, 300]</strong>: <a href=\"https://wandb.ai/nekotizimo/word-analogies/runs/2hty9g1t\" target=\"_blank\">https://wandb.ai/nekotizimo/word-analogies/runs/2hty9g1t</a><br/>\n                "
     },
     "metadata": {}
    },
    {
     "output_type": "display_data",
     "data": {
      "text/plain": "<IPython.core.display.HTML object>",
      "text/html": "\n                Tracking run with wandb version 0.10.5<br/>\n                Syncing run <strong style=\"color:#cdcd00\">dense-3-[300, 300]</strong> to <a href=\"https://wandb.ai\" target=\"_blank\">Weights & Biases</a> <a href=\"https://docs.wandb.com/integrations/jupyter.html\" target=\"_blank\">(Documentation)</a>.<br/>\n                Project page: <a href=\"https://wandb.ai/nekotizimo/word-analogies\" target=\"_blank\">https://wandb.ai/nekotizimo/word-analogies</a><br/>\n                Run page: <a href=\"https://wandb.ai/nekotizimo/word-analogies/runs/bku8iz8j\" target=\"_blank\">https://wandb.ai/nekotizimo/word-analogies/runs/bku8iz8j</a><br/>\n                Run data is saved locally in <code>wandb/run-20201009_150731-bku8iz8j</code><br/><br/>\n            "
     },
     "metadata": {}
    },
    {
     "output_type": "stream",
     "name": "stdout",
     "text": [
      "Epoch 1/100\n",
      "489/489 [==============================] - 1s 3ms/step - loss: 0.3951 - mse: 0.3951 - val_loss: 0.2486 - val_mse: 0.2486\n",
      "Epoch 2/100\n",
      "489/489 [==============================] - 1s 2ms/step - loss: 0.2660 - mse: 0.2660 - val_loss: 0.2427 - val_mse: 0.2426\n",
      "Epoch 3/100\n",
      "489/489 [==============================] - 1s 2ms/step - loss: 0.2590 - mse: 0.2590 - val_loss: 0.2406 - val_mse: 0.2406\n",
      "Epoch 4/100\n",
      "489/489 [==============================] - 1s 2ms/step - loss: 0.2556 - mse: 0.2556 - val_loss: 0.2396 - val_mse: 0.2396\n",
      "Epoch 5/100\n",
      "489/489 [==============================] - 1s 3ms/step - loss: 0.2535 - mse: 0.2535 - val_loss: 0.2390 - val_mse: 0.2390\n",
      "Epoch 6/100\n",
      "489/489 [==============================] - 1s 3ms/step - loss: 0.2520 - mse: 0.2520 - val_loss: 0.2387 - val_mse: 0.2386\n",
      "Epoch 7/100\n",
      "489/489 [==============================] - 1s 2ms/step - loss: 0.2509 - mse: 0.2509 - val_loss: 0.2380 - val_mse: 0.2380\n",
      "Epoch 8/100\n",
      "489/489 [==============================] - 1s 2ms/step - loss: 0.2503 - mse: 0.2503 - val_loss: 0.2380 - val_mse: 0.2380\n",
      "Epoch 9/100\n",
      "489/489 [==============================] - 1s 2ms/step - loss: 0.2498 - mse: 0.2498 - val_loss: 0.2378 - val_mse: 0.2378\n",
      "Epoch 10/100\n",
      "489/489 [==============================] - 1s 2ms/step - loss: 0.2493 - mse: 0.2493 - val_loss: 0.2378 - val_mse: 0.2377\n",
      "Epoch 11/100\n",
      "489/489 [==============================] - 1s 2ms/step - loss: 0.2490 - mse: 0.2490 - val_loss: 0.2376 - val_mse: 0.2376\n",
      "Epoch 12/100\n",
      "489/489 [==============================] - 1s 2ms/step - loss: 0.2488 - mse: 0.2488 - val_loss: 0.2375 - val_mse: 0.2374\n",
      "Epoch 13/100\n",
      "489/489 [==============================] - 1s 2ms/step - loss: 0.2487 - mse: 0.2487 - val_loss: 0.2373 - val_mse: 0.2373\n",
      "Epoch 14/100\n",
      "489/489 [==============================] - 1s 1ms/step - loss: 0.2484 - mse: 0.2484 - val_loss: 0.2374 - val_mse: 0.2374\n",
      "Epoch 15/100\n",
      "489/489 [==============================] - 1s 2ms/step - loss: 0.2484 - mse: 0.2484 - val_loss: 0.2373 - val_mse: 0.2372\n",
      "Epoch 16/100\n",
      "489/489 [==============================] - 1s 2ms/step - loss: 0.2484 - mse: 0.2484 - val_loss: 0.2372 - val_mse: 0.2372\n",
      "Epoch 17/100\n",
      "489/489 [==============================] - 1s 2ms/step - loss: 0.2479 - mse: 0.2479 - val_loss: 0.2372 - val_mse: 0.2372\n",
      "Epoch 18/100\n",
      "489/489 [==============================] - 1s 1ms/step - loss: 0.2478 - mse: 0.2478 - val_loss: 0.2370 - val_mse: 0.2370\n",
      "Epoch 19/100\n",
      "489/489 [==============================] - 1s 1ms/step - loss: 0.2477 - mse: 0.2477 - val_loss: 0.2370 - val_mse: 0.2370\n",
      "Epoch 20/100\n",
      "489/489 [==============================] - 1s 1ms/step - loss: 0.2477 - mse: 0.2477 - val_loss: 0.2369 - val_mse: 0.2369\n",
      "Epoch 21/100\n",
      "489/489 [==============================] - 1s 1ms/step - loss: 0.2476 - mse: 0.2476 - val_loss: 0.2369 - val_mse: 0.2369\n",
      "Epoch 22/100\n",
      "489/489 [==============================] - 1s 1ms/step - loss: 0.2477 - mse: 0.2477 - val_loss: 0.2369 - val_mse: 0.2369\n",
      "Epoch 23/100\n",
      "489/489 [==============================] - 1s 1ms/step - loss: 0.2474 - mse: 0.2474 - val_loss: 0.2368 - val_mse: 0.2368\n",
      "Epoch 24/100\n",
      "489/489 [==============================] - 1s 2ms/step - loss: 0.2473 - mse: 0.2473 - val_loss: 0.2367 - val_mse: 0.2367\n",
      "Epoch 25/100\n",
      "489/489 [==============================] - 1s 2ms/step - loss: 0.2474 - mse: 0.2474 - val_loss: 0.2366 - val_mse: 0.2366\n",
      "Epoch 26/100\n",
      "489/489 [==============================] - 1s 1ms/step - loss: 0.2472 - mse: 0.2472 - val_loss: 0.2367 - val_mse: 0.2366\n",
      "Epoch 27/100\n",
      "489/489 [==============================] - 1s 2ms/step - loss: 0.2472 - mse: 0.2472 - val_loss: 0.2366 - val_mse: 0.2366\n",
      "Epoch 28/100\n",
      "489/489 [==============================] - 1s 2ms/step - loss: 0.2471 - mse: 0.2471 - val_loss: 0.2365 - val_mse: 0.2365\n",
      "Epoch 29/100\n",
      "489/489 [==============================] - 1s 2ms/step - loss: 0.2471 - mse: 0.2471 - val_loss: 0.2367 - val_mse: 0.2367\n",
      "Epoch 30/100\n",
      "489/489 [==============================] - 1s 2ms/step - loss: 0.2469 - mse: 0.2469 - val_loss: 0.2366 - val_mse: 0.2366\n",
      "Epoch 31/100\n",
      "489/489 [==============================] - 1s 2ms/step - loss: 0.2469 - mse: 0.2469 - val_loss: 0.2365 - val_mse: 0.2365\n",
      "Epoch 32/100\n",
      "489/489 [==============================] - 1s 2ms/step - loss: 0.2469 - mse: 0.2469 - val_loss: 0.2365 - val_mse: 0.2365\n",
      "Epoch 33/100\n",
      "489/489 [==============================] - 1s 2ms/step - loss: 0.2468 - mse: 0.2468 - val_loss: 0.2366 - val_mse: 0.2366\n",
      "Epoch 34/100\n",
      "489/489 [==============================] - 1s 2ms/step - loss: 0.2469 - mse: 0.2469 - val_loss: 0.2365 - val_mse: 0.2364\n",
      "Epoch 35/100\n",
      "489/489 [==============================] - 1s 2ms/step - loss: 0.2467 - mse: 0.2467 - val_loss: 0.2364 - val_mse: 0.2364\n",
      "Epoch 36/100\n",
      "489/489 [==============================] - 1s 2ms/step - loss: 0.2466 - mse: 0.2466 - val_loss: 0.2365 - val_mse: 0.2364\n",
      "Epoch 37/100\n",
      "489/489 [==============================] - 1s 2ms/step - loss: 0.2467 - mse: 0.2467 - val_loss: 0.2365 - val_mse: 0.2365\n",
      "Epoch 38/100\n",
      "489/489 [==============================] - 1s 2ms/step - loss: 0.2465 - mse: 0.2465 - val_loss: 0.2363 - val_mse: 0.2363\n",
      "Epoch 39/100\n",
      "489/489 [==============================] - 1s 1ms/step - loss: 0.2465 - mse: 0.2465 - val_loss: 0.2361 - val_mse: 0.2361\n",
      "Epoch 40/100\n",
      "489/489 [==============================] - 1s 1ms/step - loss: 0.2466 - mse: 0.2466 - val_loss: 0.2364 - val_mse: 0.2364\n",
      "Epoch 41/100\n",
      "489/489 [==============================] - 1s 2ms/step - loss: 0.2465 - mse: 0.2465 - val_loss: 0.2363 - val_mse: 0.2362\n",
      "Epoch 42/100\n",
      "489/489 [==============================] - 1s 2ms/step - loss: 0.2464 - mse: 0.2464 - val_loss: 0.2362 - val_mse: 0.2362\n",
      "Epoch 43/100\n",
      "489/489 [==============================] - 1s 2ms/step - loss: 0.2464 - mse: 0.2464 - val_loss: 0.2363 - val_mse: 0.2362\n",
      "Epoch 44/100\n",
      "489/489 [==============================] - 1s 2ms/step - loss: 0.2464 - mse: 0.2464 - val_loss: 0.2361 - val_mse: 0.2361\n",
      "Epoch 45/100\n",
      "489/489 [==============================] - 1s 2ms/step - loss: 0.2463 - mse: 0.2463 - val_loss: 0.2362 - val_mse: 0.2362\n",
      "Epoch 46/100\n",
      "489/489 [==============================] - 1s 2ms/step - loss: 0.2461 - mse: 0.2461 - val_loss: 0.2361 - val_mse: 0.2361\n",
      "Epoch 47/100\n",
      "489/489 [==============================] - 1s 2ms/step - loss: 0.2461 - mse: 0.2461 - val_loss: 0.2361 - val_mse: 0.2361\n",
      "Epoch 48/100\n",
      "489/489 [==============================] - 1s 3ms/step - loss: 0.2462 - mse: 0.2462 - val_loss: 0.2361 - val_mse: 0.2361\n",
      "Epoch 49/100\n",
      "489/489 [==============================] - 1s 2ms/step - loss: 0.2462 - mse: 0.2462 - val_loss: 0.2361 - val_mse: 0.2361\n",
      "Epoch 50/100\n",
      "489/489 [==============================] - 1s 3ms/step - loss: 0.2461 - mse: 0.2461 - val_loss: 0.2361 - val_mse: 0.2361\n",
      "Epoch 51/100\n",
      "489/489 [==============================] - 1s 2ms/step - loss: 0.2461 - mse: 0.2461 - val_loss: 0.2362 - val_mse: 0.2361\n",
      "Epoch 52/100\n",
      "489/489 [==============================] - 1s 2ms/step - loss: 0.2461 - mse: 0.2461 - val_loss: 0.2361 - val_mse: 0.2361\n",
      "Epoch 53/100\n",
      "489/489 [==============================] - 1s 2ms/step - loss: 0.2460 - mse: 0.2460 - val_loss: 0.2361 - val_mse: 0.2361\n",
      "Epoch 54/100\n",
      "489/489 [==============================] - 1s 2ms/step - loss: 0.2459 - mse: 0.2459 - val_loss: 0.2359 - val_mse: 0.2359\n",
      "Epoch 55/100\n",
      "489/489 [==============================] - 1s 2ms/step - loss: 0.2461 - mse: 0.2461 - val_loss: 0.2360 - val_mse: 0.2360\n",
      "Epoch 56/100\n",
      "489/489 [==============================] - 1s 2ms/step - loss: 0.2460 - mse: 0.2460 - val_loss: 0.2361 - val_mse: 0.2361\n",
      "Epoch 57/100\n",
      "489/489 [==============================] - 1s 2ms/step - loss: 0.2460 - mse: 0.2460 - val_loss: 0.2360 - val_mse: 0.2360\n",
      "Epoch 58/100\n",
      "489/489 [==============================] - 1s 3ms/step - loss: 0.2461 - mse: 0.2461 - val_loss: 0.2358 - val_mse: 0.2358\n",
      "Epoch 59/100\n",
      "489/489 [==============================] - 1s 2ms/step - loss: 0.2459 - mse: 0.2459 - val_loss: 0.2360 - val_mse: 0.2360\n",
      "Epoch 60/100\n",
      "489/489 [==============================] - 1s 2ms/step - loss: 0.2458 - mse: 0.2458 - val_loss: 0.2360 - val_mse: 0.2360\n",
      "Epoch 61/100\n",
      "489/489 [==============================] - 1s 1ms/step - loss: 0.2459 - mse: 0.2459 - val_loss: 0.2359 - val_mse: 0.2359\n",
      "Epoch 62/100\n",
      "489/489 [==============================] - 1s 1ms/step - loss: 0.2458 - mse: 0.2458 - val_loss: 0.2360 - val_mse: 0.2360\n",
      "Epoch 63/100\n",
      "489/489 [==============================] - 1s 1ms/step - loss: 0.2458 - mse: 0.2458 - val_loss: 0.2359 - val_mse: 0.2359\n",
      "Epoch 64/100\n",
      "489/489 [==============================] - 1s 2ms/step - loss: 0.2458 - mse: 0.2458 - val_loss: 0.2360 - val_mse: 0.2360\n",
      "Epoch 65/100\n",
      "489/489 [==============================] - 1s 2ms/step - loss: 0.2457 - mse: 0.2457 - val_loss: 0.2358 - val_mse: 0.2358\n",
      "Epoch 66/100\n",
      "489/489 [==============================] - 1s 2ms/step - loss: 0.2457 - mse: 0.2457 - val_loss: 0.2359 - val_mse: 0.2359\n",
      "Epoch 67/100\n",
      "489/489 [==============================] - 1s 2ms/step - loss: 0.2458 - mse: 0.2458 - val_loss: 0.2359 - val_mse: 0.2359\n",
      "Epoch 68/100\n",
      "489/489 [==============================] - 1s 2ms/step - loss: 0.2458 - mse: 0.2458 - val_loss: 0.2359 - val_mse: 0.2359\n",
      "Epoch 69/100\n",
      "489/489 [==============================] - 1s 3ms/step - loss: 0.2457 - mse: 0.2457 - val_loss: 0.2360 - val_mse: 0.2360\n",
      "Epoch 70/100\n",
      "489/489 [==============================] - 1s 2ms/step - loss: 0.2457 - mse: 0.2457 - val_loss: 0.2360 - val_mse: 0.2360\n",
      "Epoch 71/100\n",
      "489/489 [==============================] - 1s 2ms/step - loss: 0.2457 - mse: 0.2457 - val_loss: 0.2360 - val_mse: 0.2360\n",
      "Epoch 72/100\n",
      "489/489 [==============================] - 1s 2ms/step - loss: 0.2456 - mse: 0.2456 - val_loss: 0.2360 - val_mse: 0.2360\n",
      "Epoch 73/100\n",
      "489/489 [==============================] - 1s 2ms/step - loss: 0.2455 - mse: 0.2455 - val_loss: 0.2359 - val_mse: 0.2359\n",
      "Epoch 74/100\n",
      "489/489 [==============================] - 1s 2ms/step - loss: 0.2456 - mse: 0.2456 - val_loss: 0.2359 - val_mse: 0.2359\n",
      "Epoch 75/100\n",
      "489/489 [==============================] - 1s 2ms/step - loss: 0.2456 - mse: 0.2456 - val_loss: 0.2358 - val_mse: 0.2358\n",
      "Epoch 76/100\n",
      "489/489 [==============================] - 1s 2ms/step - loss: 0.2456 - mse: 0.2456 - val_loss: 0.2357 - val_mse: 0.2357\n",
      "Epoch 77/100\n",
      "489/489 [==============================] - 1s 2ms/step - loss: 0.2456 - mse: 0.2456 - val_loss: 0.2359 - val_mse: 0.2359\n",
      "Epoch 78/100\n",
      "489/489 [==============================] - 1s 2ms/step - loss: 0.2456 - mse: 0.2456 - val_loss: 0.2358 - val_mse: 0.2358\n",
      "Epoch 79/100\n",
      "489/489 [==============================] - 1s 2ms/step - loss: 0.2456 - mse: 0.2456 - val_loss: 0.2358 - val_mse: 0.2358\n",
      "Epoch 80/100\n",
      "489/489 [==============================] - 1s 2ms/step - loss: 0.2455 - mse: 0.2455 - val_loss: 0.2359 - val_mse: 0.2359\n",
      "Epoch 81/100\n",
      "489/489 [==============================] - 1s 2ms/step - loss: 0.2454 - mse: 0.2454 - val_loss: 0.2358 - val_mse: 0.2357\n",
      "Epoch 82/100\n",
      "489/489 [==============================] - 1s 2ms/step - loss: 0.2454 - mse: 0.2454 - val_loss: 0.2358 - val_mse: 0.2358\n",
      "Epoch 83/100\n",
      "489/489 [==============================] - 1s 2ms/step - loss: 0.2454 - mse: 0.2454 - val_loss: 0.2358 - val_mse: 0.2358\n",
      "Epoch 84/100\n",
      "489/489 [==============================] - 1s 2ms/step - loss: 0.2454 - mse: 0.2454 - val_loss: 0.2359 - val_mse: 0.2359\n",
      "Epoch 85/100\n",
      "489/489 [==============================] - 1s 2ms/step - loss: 0.2455 - mse: 0.2455 - val_loss: 0.2358 - val_mse: 0.2358\n",
      "Epoch 86/100\n",
      "489/489 [==============================] - 1s 2ms/step - loss: 0.2455 - mse: 0.2455 - val_loss: 0.2358 - val_mse: 0.2358\n",
      "Epoch 87/100\n",
      "489/489 [==============================] - 1s 2ms/step - loss: 0.2454 - mse: 0.2454 - val_loss: 0.2356 - val_mse: 0.2356\n",
      "Epoch 88/100\n",
      "489/489 [==============================] - 1s 2ms/step - loss: 0.2454 - mse: 0.2454 - val_loss: 0.2358 - val_mse: 0.2358\n",
      "Epoch 89/100\n",
      "489/489 [==============================] - 1s 2ms/step - loss: 0.2453 - mse: 0.2453 - val_loss: 0.2358 - val_mse: 0.2358\n",
      "Epoch 90/100\n",
      "489/489 [==============================] - 1s 3ms/step - loss: 0.2453 - mse: 0.2453 - val_loss: 0.2357 - val_mse: 0.2357\n",
      "Epoch 91/100\n",
      "489/489 [==============================] - 1s 2ms/step - loss: 0.2453 - mse: 0.2453 - val_loss: 0.2357 - val_mse: 0.2357\n",
      "Epoch 92/100\n",
      "489/489 [==============================] - 1s 2ms/step - loss: 0.2453 - mse: 0.2453 - val_loss: 0.2357 - val_mse: 0.2357\n",
      "Epoch 93/100\n",
      "489/489 [==============================] - 1s 2ms/step - loss: 0.2453 - mse: 0.2453 - val_loss: 0.2357 - val_mse: 0.2357\n",
      "Epoch 94/100\n",
      "489/489 [==============================] - 1s 2ms/step - loss: 0.2453 - mse: 0.2453 - val_loss: 0.2356 - val_mse: 0.2356\n",
      "Epoch 95/100\n",
      "489/489 [==============================] - 1s 2ms/step - loss: 0.2453 - mse: 0.2453 - val_loss: 0.2358 - val_mse: 0.2358\n",
      "Epoch 96/100\n",
      "489/489 [==============================] - 1s 3ms/step - loss: 0.2453 - mse: 0.2453 - val_loss: 0.2355 - val_mse: 0.2355\n",
      "Epoch 97/100\n",
      "489/489 [==============================] - 1s 3ms/step - loss: 0.2454 - mse: 0.2454 - val_loss: 0.2356 - val_mse: 0.2356\n",
      "Epoch 98/100\n",
      "489/489 [==============================] - 1s 2ms/step - loss: 0.2451 - mse: 0.2451 - val_loss: 0.2356 - val_mse: 0.2356\n",
      "Epoch 99/100\n",
      "489/489 [==============================] - 1s 2ms/step - loss: 0.2451 - mse: 0.2451 - val_loss: 0.2357 - val_mse: 0.2357\n",
      "Epoch 100/100\n",
      "489/489 [==============================] - 1s 2ms/step - loss: 0.2452 - mse: 0.2452 - val_loss: 0.2356 - val_mse: 0.2356\n"
     ]
    },
    {
     "output_type": "display_data",
     "data": {
      "text/plain": "<IPython.core.display.HTML object>",
      "text/html": "<br/>Waiting for W&B process to finish, PID 86443<br/>Program ended successfully."
     },
     "metadata": {}
    },
    {
     "output_type": "display_data",
     "data": {
      "text/plain": "VBox(children=(Label(value=' 1.20MB of 1.76MB uploaded (0.00MB deduped)\\r'), FloatProgress(value=0.68000225344…",
      "application/vnd.jupyter.widget-view+json": {
       "version_major": 2,
       "version_minor": 0,
       "model_id": "76f38a44c8dd4b91a7ef97871e9e4c74"
      }
     },
     "metadata": {}
    },
    {
     "output_type": "display_data",
     "data": {
      "text/plain": "<IPython.core.display.HTML object>",
      "text/html": "Find user logs for this run at: <code>wandb/run-20201009_150731-bku8iz8j/logs/debug.log</code>"
     },
     "metadata": {}
    },
    {
     "output_type": "display_data",
     "data": {
      "text/plain": "<IPython.core.display.HTML object>",
      "text/html": "Find internal logs for this run at: <code>wandb/run-20201009_150731-bku8iz8j/logs/debug-internal.log</code>"
     },
     "metadata": {}
    },
    {
     "output_type": "display_data",
     "data": {
      "text/plain": "<IPython.core.display.HTML object>",
      "text/html": "<h3>Run summary:</h3><br/><style>\n    table.wandb td:nth-child(1) { padding: 0 10px; text-align: right }\n    </style><table class=\"wandb\">\n<tr><td>epoch</td><td>99</td></tr><tr><td>loss</td><td>0.24517</td></tr><tr><td>mse</td><td>0.24517</td></tr><tr><td>val_loss</td><td>0.23562</td></tr><tr><td>val_mse</td><td>0.23562</td></tr><tr><td>_step</td><td>99</td></tr><tr><td>_runtime</td><td>98</td></tr><tr><td>_timestamp</td><td>1602227352</td></tr><tr><td>best_val_loss</td><td>0.2355</td></tr><tr><td>best_epoch</td><td>95</td></tr></table>"
     },
     "metadata": {}
    },
    {
     "output_type": "display_data",
     "data": {
      "text/plain": "<IPython.core.display.HTML object>",
      "text/html": "<h3>Run history:</h3><br/><style>\n    table.wandb td:nth-child(1) { padding: 0 10px; text-align: right }\n    </style><table class=\"wandb\">\n<tr><td>epoch</td><td>▁▁▁▁▂▂▂▂▂▃▃▃▃▃▃▄▄▄▄▄▅▅▅▅▅▅▆▆▆▆▆▇▇▇▇▇▇███</td></tr><tr><td>loss</td><td>█▂▁▁▁▁▁▁▁▁▁▁▁▁▁▁▁▁▁▁▁▁▁▁▁▁▁▁▁▁▁▁▁▁▁▁▁▁▁▁</td></tr><tr><td>mse</td><td>█▂▁▁▁▁▁▁▁▁▁▁▁▁▁▁▁▁▁▁▁▁▁▁▁▁▁▁▁▁▁▁▁▁▁▁▁▁▁▁</td></tr><tr><td>val_loss</td><td>█▄▃▂▂▂▂▂▂▂▂▂▁▁▁▁▁▁▁▁▁▁▁▁▁▁▁▁▁▁▁▁▁▁▁▁▁▁▁▁</td></tr><tr><td>val_mse</td><td>█▄▃▂▂▂▂▂▂▂▂▂▁▁▁▁▁▁▁▁▁▁▁▁▁▁▁▁▁▁▁▁▁▁▁▁▁▁▁▁</td></tr><tr><td>_step</td><td>▁▁▁▁▂▂▂▂▂▃▃▃▃▃▃▄▄▄▄▄▅▅▅▅▅▅▆▆▆▆▆▇▇▇▇▇▇███</td></tr><tr><td>_runtime</td><td>▁▁▁▂▂▂▂▂▂▂▃▃▃▃▃▄▄▄▄▄▄▅▅▅▅▅▆▆▆▆▆▆▇▇▇▇▇███</td></tr><tr><td>_timestamp</td><td>▁▁▁▂▂▂▂▂▂▂▃▃▃▃▃▄▄▄▄▄▄▅▅▅▅▅▆▆▆▆▆▆▇▇▇▇▇███</td></tr></table><br/>"
     },
     "metadata": {}
    },
    {
     "output_type": "display_data",
     "data": {
      "text/plain": "<IPython.core.display.HTML object>",
      "text/html": "Synced 5 W&B file(s), 1 media file(s), 0 artifact file(s) and 1 other file(s)"
     },
     "metadata": {}
    },
    {
     "output_type": "display_data",
     "data": {
      "text/plain": "<IPython.core.display.HTML object>",
      "text/html": "\n                    <br/>Synced <strong style=\"color:#cdcd00\">dense-3-[300, 300]</strong>: <a href=\"https://wandb.ai/nekotizimo/word-analogies/runs/bku8iz8j\" target=\"_blank\">https://wandb.ai/nekotizimo/word-analogies/runs/bku8iz8j</a><br/>\n                "
     },
     "metadata": {}
    },
    {
     "output_type": "stream",
     "name": "stdout",
     "text": [
      "INFO:tensorflow:Assets written to: models/dense-3-[300, 300]-1602227589/assets\n"
     ]
    }
   ],
   "source": [
    "run = wandb.init(project=\"word-analogies\", name=config[\"architecture\"] + \"-\" + str(config[\"layers\"]) + \"-\" + str(config[\"hidden_layers\"]), config=config, notes=\"tweaked mse_large\")\n",
    "\n",
    "model.compile(loss=mse_large, optimizer=config[\"optimizer\"], metrics=config[\"metrics\"])\n",
    "model.fit(X_train, Y_train, batch_size=32, epochs=100, validation_data=(X_dev, Y_dev), callbacks=[WandbCallback()])\n",
    "\n",
    "run.finish()\n",
    "\n",
    "if input(\"Save model? (y/n): \") == \"y\":\n",
    "    model.save(\"models/\" + config[\"architecture\"] + \"-\" + str(config[\"layers\"]) + \"-\" + str(config[\"hidden_layers\"]) + \"-\" + str(round(time.time())))"
   ]
  },
  {
   "cell_type": "code",
   "execution_count": 130,
   "metadata": {},
   "outputs": [
    {
     "output_type": "stream",
     "name": "stdout",
     "text": [
      "62/62 - 0s - loss: 0.2358 - mse: 0.2358\n"
     ]
    },
    {
     "output_type": "execute_result",
     "data": {
      "text/plain": [
       "(1955, 50)"
      ]
     },
     "metadata": {},
     "execution_count": 130
    }
   ],
   "source": [
    "model.evaluate(X_test, Y_test, verbose=2)\n",
    "Y_predict = model.predict(X_test)\n",
    "Y_predict.shape"
   ]
  },
  {
   "cell_type": "code",
   "execution_count": 131,
   "metadata": {},
   "outputs": [
    {
     "output_type": "stream",
     "name": "stdout",
     "text": [
      "Zimbabwe ['zimbabwe', 'bringing', 'brings', 'namely', 'besides'] Q: ['Banjul' 'Gambia' 'Harare']\n",
      "swiftly ['likewise', 'bulletinyyy', 'meantime', 'srivalo', 'piyanart'] Q: ['serious' 'seriously' 'swift']\n",
      "describes ['explains', 'describes', 'introduces', 'wherein', 'relates'] Q: ['sit' 'sits' 'describe']\n",
      "unpleasant ['unpleasant', 'irritating', 'comforting', 'fortunately', 'avoids'] Q: ['fortunate' 'unfortunate' 'pleasant']\n",
      "Greenland ['greenland', 'greenlandic', 'klerksdorp', 'lillestroem', 'alunite'] Q: ['Madrid' 'Spain' 'Nuuk']\n",
      "Russian ['counterparts', 'russian', 'besides', 'specialists', 'adding'] Q: ['Portugal' 'Portuguese' 'Russia']\n",
      "slowing ['coupled', 'steady', 'keeps', 'lag', 'tends'] Q: ['dance' 'dancing' 'slow']\n",
      "Australian ['besides', 'whereas', 'adding', 'bringing', 'additionally'] Q: ['Germany' 'German' 'Australia']\n",
      "sitting ['sitting', 'stays', 'resting', 'basically', 'fills'] Q: ['say' 'saying' 'sit']\n",
      "Israeli ['adding', 'essential', 'sources', 'besides', 'bringing'] Q: ['Thailand' 'Thai' 'Israel']\n"
     ]
    }
   ],
   "source": [
    "indices = np.random.randint(Y_predict.shape[0], size=10)\n",
    "for i, emb in enumerate(Y_predict[indices]):\n",
    "    print(Y_test_words[indices[i]], closest_neighbors(emb, 5), \"Q:\", X_test_words[indices[i]])"
   ]
  },
  {
   "cell_type": "code",
   "execution_count": 108,
   "metadata": {},
   "outputs": [],
   "source": [
    "minnesota = glove_mat[word_to_ind[\"minnesota\"]]\n",
    "bulletinyyy = glove_mat[word_to_ind[\"bulletinyyy\"]]\n",
    "florida = glove_mat[word_to_ind[\"florida\"]]\n",
    "instance = glove_mat[word_to_ind[\"instance\"]]"
   ]
  },
  {
   "cell_type": "code",
   "execution_count": 107,
   "metadata": {},
   "outputs": [
    {
     "output_type": "stream",
     "name": "stdout",
     "text": [
      "3.1332464376507314\n3.4258391633512217\n3.3534548890073057\n4.144025282606665\n0.05465219281056251\n5.059411990967187\n"
     ]
    }
   ],
   "source": [
    "print(np.linalg.norm(glove_mat[word_to_ind[\"besides\"]]))\n",
    "print(np.linalg.norm(glove_mat[word_to_ind[\"instance\"]]))\n",
    "print(np.linalg.norm(glove_mat[word_to_ind[\"whereas\"]]))\n",
    "print(np.linalg.norm(glove_mat[word_to_ind[\"serves\"]]))\n",
    "print(np.linalg.norm(glove_mat[word_to_ind[\"bulletinyyy\"]]))\n",
    "print(np.linalg.norm(glove_mat[word_to_ind[\"tunisia\"]]))"
   ]
  },
  {
   "cell_type": "code",
   "execution_count": null,
   "metadata": {},
   "outputs": [],
   "source": []
  }
 ]
}