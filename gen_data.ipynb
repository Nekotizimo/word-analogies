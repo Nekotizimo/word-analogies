{
 "metadata": {
  "language_info": {
   "codemirror_mode": {
    "name": "ipython",
    "version": 3
   },
   "file_extension": ".py",
   "mimetype": "text/x-python",
   "name": "python",
   "nbconvert_exporter": "python",
   "pygments_lexer": "ipython3",
   "version": "3.7.6-final"
  },
  "orig_nbformat": 2,
  "kernelspec": {
   "name": "Python 3.7.6 64-bit ('base': conda)",
   "display_name": "Python 3.7.6 64-bit ('base': conda)",
   "metadata": {
    "interpreter": {
     "hash": "83fd730ee10b27fca59d2362f39572bacefb2dd12305df93b0609391fa4c55fb"
    }
   }
  }
 },
 "nbformat": 4,
 "nbformat_minor": 2,
 "cells": [
  {
   "cell_type": "code",
   "execution_count": 1,
   "metadata": {},
   "outputs": [],
   "source": [
    "import numpy as np\n",
    "import pickle"
   ]
  },
  {
   "cell_type": "code",
   "execution_count": 26,
   "metadata": {},
   "outputs": [
    {
     "output_type": "stream",
     "name": "stdout",
     "text": [
      "(317756, 50) (317756,)\n"
     ]
    }
   ],
   "source": [
    "# Read vectors\n",
    "# glove_mat = np.loadtxt(\"./data/glove_6B_50d.txt\", usecols=(range(1, 51)), comments=None)\n",
    "glove_mat = []\n",
    "words = []\n",
    "with open(\"./data/glove_6B_50d.txt\", \"rb\") as f:\n",
    "    for line in f:\n",
    "        line = line.split()\n",
    "        assert(len(line) == 51)\n",
    "        if line[0].isalpha():\n",
    "            glove_mat.append(list(float(line[i]) for i in range(1, 51)))\n",
    "            words.append(line[0].decode(\"utf-8\"))\n",
    "\n",
    "glove_mat = np.array(glove_mat)\n",
    "words = np.array(words)\n",
    "print(glove_mat.shape, words.shape)\n",
    "np.save(\"./data/glove_6B_50d.npy\", glove_mat)\n",
    "np.save(\"./data/words_6B_50d.npy\", words)\n"
   ]
  },
  {
   "cell_type": "code",
   "execution_count": 27,
   "metadata": {},
   "outputs": [
    {
     "output_type": "stream",
     "name": "stdout",
     "text": [
      "(317756,)\n0\n"
     ]
    }
   ],
   "source": [
    "# Generate dictionary (word -> index) and list of words\n",
    "# words = np.loadtxt(\"./data/glove_6B_50d.txt\", dtype=np.str, comments=None, usecols=0)\n",
    "words = np.load(\"./data/words_6B_50d.npy\")\n",
    "print(words.shape)\n",
    "word_to_ind = {}\n",
    "for i, word in enumerate(words):\n",
    "    # if (i % 10000 == 0): print(word)\n",
    "    word_to_ind[word] = i\n",
    "print(word_to_ind[\"the\"])\n",
    "with open(\"./data/word_to_ind_6B_50d.pkl\", \"wb\") as f:    \n",
    "    pickle.dump(word_to_ind, f, pickle.HIGHEST_PROTOCOL)\n",
    "# np.save(\"./data/words_6B_50d\", words)"
   ]
  },
  {
   "cell_type": "code",
   "execution_count": 29,
   "metadata": {},
   "outputs": [
    {
     "output_type": "stream",
     "name": "stdout",
     "text": [
      "226088 3828\n"
     ]
    }
   ],
   "source": [
    "# Get index of words\n",
    "word_to_ind = pickle.load(open(\"./data/word_to_ind_6B_50d.pkl\", \"rb\"))\n",
    "print(word_to_ind[\"bulletinyyy\"], word_to_ind[\"peru\"])\n"
   ]
  },
  {
   "cell_type": "code",
   "execution_count": 31,
   "metadata": {},
   "outputs": [
    {
     "output_type": "stream",
     "name": "stdout",
     "text": [
      "['peru', '0.56325', '-0.10534', '-0.21799', '1.335', '-0.35513', '-0.98961', '-0.02227', '0.44863', '-0.32069', '0.72776', '0.77992', '-0.43826', '0.70535', '-0.20057', '0.44197', '-0.6322', '-0.58263', '0.019518', '0.25073', '0.66106', '-0.93496', '-0.023471', '0.074304', '-0.11181', '-0.20324', '-1.1545', '0.39452', '0.09372', '-0.27182', '-0.18068', '1.8429', '-0.37776', '-1.1332', '-0.17605', '0.076909', '-0.25296', '-1.2729', '-0.15811', '0.16515', '-0.32012', '-0.76888', '0.37513', '1.3977', '-1.3739', '-0.57559', '0.60141', '-0.10711', '0.10838', '0.44186', '-1.4398']\n",
      "['bulletinyyy', '-0.0092704', '-0.0097494', '0.0073041', '-0.0020287', '-0.0017292', '-0.012601', '0.0079217', '-0.0016018', '-0.0010109', '0.014303', '0.0055856', '-0.0052132', '-0.0017319', '-0.00092802', '-0.0063784', '-0.0030884', '-0.0092337', '-0.0070904', '-0.014676', '0.010001', '0.0063664', '0.0049744', '-0.013794', '-0.010413', '0.0038788', '-0.006642', '-0.011766', '0.00023936', '-0.0017947', '0.0064923', '-0.0066716', '0.0023676', '0.00028935', '0.011503', '0.0028544', '-0.01025', '-0.0095956', '0.0012219', '-0.0053509', '-0.008439', '0.008261', '-0.0089416', '0.011419', '-0.015866', '-0.0031839', '-0.0087942', '0.0055798', '0.00030398', '-0.0016923', '0.0020673']\n"
     ]
    }
   ],
   "source": [
    "# Get line of indices\n",
    "with open(\"./data/glove_6B_50d.txt\") as f:\n",
    "    for i, line in enumerate(f):\n",
    "        line_s = line.split()\n",
    "        if (line_s[0] == \"bulletinyyy\" or line_s[0] == \"peru\"):\n",
    "            print(line)\n"
   ]
  },
  {
   "cell_type": "code",
   "execution_count": null,
   "metadata": {},
   "outputs": [],
   "source": []
  }
 ]
}